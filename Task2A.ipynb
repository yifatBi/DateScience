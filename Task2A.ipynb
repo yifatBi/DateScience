{
 "cells": [
  {
   "cell_type": "code",
   "execution_count": 1,
   "metadata": {
    "collapsed": true
   },
   "outputs": [],
   "source": [
    "import pandas as pd"
   ]
  },
  {
   "cell_type": "code",
   "execution_count": 2,
   "metadata": {
    "collapsed": true
   },
   "outputs": [],
   "source": [
    "df=pd.DataFrame.from_csv('Hotels_data_Changed.csv')"
   ]
  },
  {
   "cell_type": "code",
   "execution_count": 3,
   "metadata": {},
   "outputs": [
    {
     "data": {
      "text/plain": [
       "Index([u'Snapshot Date', u'Checkin Date', u'Days', u'Original Price',\n",
       "       u'Discount Price', u'Discount Code', u'Available Rooms', u'Hotel Name',\n",
       "       u'Hotel Stars', u'WeekDay', u'DiscountDiff', u'DiscountPerc',\n",
       "       u'DayDiff'],\n",
       "      dtype='object')"
      ]
     },
     "execution_count": 3,
     "metadata": {},
     "output_type": "execute_result"
    }
   ],
   "source": [
    "df.columns"
   ]
  },
  {
   "cell_type": "code",
   "execution_count": 4,
   "metadata": {},
   "outputs": [
    {
     "data": {
      "text/html": [
       "<div>\n",
       "<style>\n",
       "    .dataframe thead tr:only-child th {\n",
       "        text-align: right;\n",
       "    }\n",
       "\n",
       "    .dataframe thead th {\n",
       "        text-align: left;\n",
       "    }\n",
       "\n",
       "    .dataframe tbody tr th {\n",
       "        vertical-align: top;\n",
       "    }\n",
       "</style>\n",
       "<table border=\"1\" class=\"dataframe\">\n",
       "  <thead>\n",
       "    <tr style=\"text-align: right;\">\n",
       "      <th></th>\n",
       "      <th>Snapshot Date</th>\n",
       "      <th>Checkin Date</th>\n",
       "      <th>Days</th>\n",
       "      <th>Original Price</th>\n",
       "      <th>Discount Price</th>\n",
       "      <th>Discount Code</th>\n",
       "      <th>Available Rooms</th>\n",
       "      <th>Hotel Name</th>\n",
       "      <th>Hotel Stars</th>\n",
       "      <th>WeekDay</th>\n",
       "      <th>DiscountDiff</th>\n",
       "      <th>DiscountPerc</th>\n",
       "      <th>DayDiff</th>\n",
       "    </tr>\n",
       "    <tr>\n",
       "      <th>Snapshot ID</th>\n",
       "      <th></th>\n",
       "      <th></th>\n",
       "      <th></th>\n",
       "      <th></th>\n",
       "      <th></th>\n",
       "      <th></th>\n",
       "      <th></th>\n",
       "      <th></th>\n",
       "      <th></th>\n",
       "      <th></th>\n",
       "      <th></th>\n",
       "      <th></th>\n",
       "      <th></th>\n",
       "    </tr>\n",
       "  </thead>\n",
       "  <tbody>\n",
       "    <tr>\n",
       "      <th>1</th>\n",
       "      <td>2015-07-17</td>\n",
       "      <td>2015-08-12</td>\n",
       "      <td>5</td>\n",
       "      <td>1178</td>\n",
       "      <td>1040</td>\n",
       "      <td>1</td>\n",
       "      <td>6</td>\n",
       "      <td>Best Western Plus Seaport Inn Downtown</td>\n",
       "      <td>3</td>\n",
       "      <td>Wed</td>\n",
       "      <td>138</td>\n",
       "      <td>11.714771</td>\n",
       "      <td>26</td>\n",
       "    </tr>\n",
       "    <tr>\n",
       "      <th>1</th>\n",
       "      <td>2015-07-17</td>\n",
       "      <td>2015-08-19</td>\n",
       "      <td>5</td>\n",
       "      <td>1113</td>\n",
       "      <td>982</td>\n",
       "      <td>1</td>\n",
       "      <td>8</td>\n",
       "      <td>Best Western Plus Seaport Inn Downtown</td>\n",
       "      <td>3</td>\n",
       "      <td>Wed</td>\n",
       "      <td>131</td>\n",
       "      <td>11.769991</td>\n",
       "      <td>33</td>\n",
       "    </tr>\n",
       "    <tr>\n",
       "      <th>1</th>\n",
       "      <td>2015-07-17</td>\n",
       "      <td>2015-08-13</td>\n",
       "      <td>5</td>\n",
       "      <td>4370</td>\n",
       "      <td>4240</td>\n",
       "      <td>1</td>\n",
       "      <td>3</td>\n",
       "      <td>The Peninsula New York</td>\n",
       "      <td>5</td>\n",
       "      <td>Thu</td>\n",
       "      <td>130</td>\n",
       "      <td>2.974828</td>\n",
       "      <td>27</td>\n",
       "    </tr>\n",
       "    <tr>\n",
       "      <th>1</th>\n",
       "      <td>2015-07-17</td>\n",
       "      <td>2015-07-26</td>\n",
       "      <td>5</td>\n",
       "      <td>1739</td>\n",
       "      <td>1667</td>\n",
       "      <td>1</td>\n",
       "      <td>18</td>\n",
       "      <td>Eventi Hotel a Kimpton Hotel</td>\n",
       "      <td>4</td>\n",
       "      <td>Sun</td>\n",
       "      <td>72</td>\n",
       "      <td>4.140311</td>\n",
       "      <td>9</td>\n",
       "    </tr>\n",
       "    <tr>\n",
       "      <th>1</th>\n",
       "      <td>2015-07-17</td>\n",
       "      <td>2015-08-12</td>\n",
       "      <td>5</td>\n",
       "      <td>1739</td>\n",
       "      <td>1672</td>\n",
       "      <td>1</td>\n",
       "      <td>3</td>\n",
       "      <td>Eventi Hotel a Kimpton Hotel</td>\n",
       "      <td>4</td>\n",
       "      <td>Wed</td>\n",
       "      <td>67</td>\n",
       "      <td>3.852789</td>\n",
       "      <td>26</td>\n",
       "    </tr>\n",
       "  </tbody>\n",
       "</table>\n",
       "</div>"
      ],
      "text/plain": [
       "            Snapshot Date Checkin Date  Days  Original Price  Discount Price  \\\n",
       "Snapshot ID                                                                    \n",
       "1              2015-07-17   2015-08-12     5            1178            1040   \n",
       "1              2015-07-17   2015-08-19     5            1113             982   \n",
       "1              2015-07-17   2015-08-13     5            4370            4240   \n",
       "1              2015-07-17   2015-07-26     5            1739            1667   \n",
       "1              2015-07-17   2015-08-12     5            1739            1672   \n",
       "\n",
       "             Discount Code  Available Rooms  \\\n",
       "Snapshot ID                                   \n",
       "1                        1                6   \n",
       "1                        1                8   \n",
       "1                        1                3   \n",
       "1                        1               18   \n",
       "1                        1                3   \n",
       "\n",
       "                                         Hotel Name  Hotel Stars WeekDay  \\\n",
       "Snapshot ID                                                                \n",
       "1            Best Western Plus Seaport Inn Downtown            3     Wed   \n",
       "1            Best Western Plus Seaport Inn Downtown            3     Wed   \n",
       "1                            The Peninsula New York            5     Thu   \n",
       "1                      Eventi Hotel a Kimpton Hotel            4     Sun   \n",
       "1                      Eventi Hotel a Kimpton Hotel            4     Wed   \n",
       "\n",
       "             DiscountDiff  DiscountPerc  DayDiff  \n",
       "Snapshot ID                                       \n",
       "1                     138     11.714771       26  \n",
       "1                     131     11.769991       33  \n",
       "1                     130      2.974828       27  \n",
       "1                      72      4.140311        9  \n",
       "1                      67      3.852789       26  "
      ]
     },
     "execution_count": 4,
     "metadata": {},
     "output_type": "execute_result"
    }
   ],
   "source": [
    "df.head()"
   ]
  },
  {
   "cell_type": "code",
   "execution_count": 5,
   "metadata": {
    "collapsed": true
   },
   "outputs": [],
   "source": [
    "df=df.sort_values(by='DiscountPerc',ascending=False)"
   ]
  },
  {
   "cell_type": "code",
   "execution_count": 6,
   "metadata": {},
   "outputs": [
    {
     "data": {
      "text/html": [
       "<div>\n",
       "<style>\n",
       "    .dataframe thead tr:only-child th {\n",
       "        text-align: right;\n",
       "    }\n",
       "\n",
       "    .dataframe thead th {\n",
       "        text-align: left;\n",
       "    }\n",
       "\n",
       "    .dataframe tbody tr th {\n",
       "        vertical-align: top;\n",
       "    }\n",
       "</style>\n",
       "<table border=\"1\" class=\"dataframe\">\n",
       "  <thead>\n",
       "    <tr style=\"text-align: right;\">\n",
       "      <th></th>\n",
       "      <th>Snapshot Date</th>\n",
       "      <th>Checkin Date</th>\n",
       "      <th>Days</th>\n",
       "      <th>Original Price</th>\n",
       "      <th>Discount Price</th>\n",
       "      <th>Discount Code</th>\n",
       "      <th>Available Rooms</th>\n",
       "      <th>Hotel Name</th>\n",
       "      <th>Hotel Stars</th>\n",
       "      <th>WeekDay</th>\n",
       "      <th>DiscountDiff</th>\n",
       "      <th>DiscountPerc</th>\n",
       "      <th>DayDiff</th>\n",
       "    </tr>\n",
       "    <tr>\n",
       "      <th>Snapshot ID</th>\n",
       "      <th></th>\n",
       "      <th></th>\n",
       "      <th></th>\n",
       "      <th></th>\n",
       "      <th></th>\n",
       "      <th></th>\n",
       "      <th></th>\n",
       "      <th></th>\n",
       "      <th></th>\n",
       "      <th></th>\n",
       "      <th></th>\n",
       "      <th></th>\n",
       "      <th></th>\n",
       "    </tr>\n",
       "  </thead>\n",
       "  <tbody>\n",
       "    <tr>\n",
       "      <th>194</th>\n",
       "      <td>2015-09-02</td>\n",
       "      <td>2015-09-03</td>\n",
       "      <td>5</td>\n",
       "      <td>5495</td>\n",
       "      <td>1735</td>\n",
       "      <td>1</td>\n",
       "      <td>2</td>\n",
       "      <td>Hyatt Place Flushing LaGuardia Airport</td>\n",
       "      <td>3</td>\n",
       "      <td>Thu</td>\n",
       "      <td>3760</td>\n",
       "      <td>68.425842</td>\n",
       "      <td>1</td>\n",
       "    </tr>\n",
       "    <tr>\n",
       "      <th>428</th>\n",
       "      <td>2015-10-01</td>\n",
       "      <td>2015-10-22</td>\n",
       "      <td>5</td>\n",
       "      <td>3193</td>\n",
       "      <td>1012</td>\n",
       "      <td>3</td>\n",
       "      <td>1</td>\n",
       "      <td>Manhattan Broadway Budget Hotel</td>\n",
       "      <td>2</td>\n",
       "      <td>Thu</td>\n",
       "      <td>2181</td>\n",
       "      <td>68.305669</td>\n",
       "      <td>21</td>\n",
       "    </tr>\n",
       "    <tr>\n",
       "      <th>428</th>\n",
       "      <td>2015-10-01</td>\n",
       "      <td>2015-10-20</td>\n",
       "      <td>5</td>\n",
       "      <td>3274</td>\n",
       "      <td>1093</td>\n",
       "      <td>2</td>\n",
       "      <td>1</td>\n",
       "      <td>Manhattan Broadway Budget Hotel</td>\n",
       "      <td>2</td>\n",
       "      <td>Tue</td>\n",
       "      <td>2181</td>\n",
       "      <td>66.615761</td>\n",
       "      <td>19</td>\n",
       "    </tr>\n",
       "    <tr>\n",
       "      <th>537</th>\n",
       "      <td>2015-11-26</td>\n",
       "      <td>2015-12-01</td>\n",
       "      <td>5</td>\n",
       "      <td>1755</td>\n",
       "      <td>765</td>\n",
       "      <td>3</td>\n",
       "      <td>-1</td>\n",
       "      <td>Comfort Inn Times Square West</td>\n",
       "      <td>2</td>\n",
       "      <td>Tue</td>\n",
       "      <td>990</td>\n",
       "      <td>56.410256</td>\n",
       "      <td>5</td>\n",
       "    </tr>\n",
       "    <tr>\n",
       "      <th>537</th>\n",
       "      <td>2015-11-26</td>\n",
       "      <td>2015-12-01</td>\n",
       "      <td>5</td>\n",
       "      <td>1755</td>\n",
       "      <td>765</td>\n",
       "      <td>2</td>\n",
       "      <td>-1</td>\n",
       "      <td>Comfort Inn Times Square West</td>\n",
       "      <td>2</td>\n",
       "      <td>Tue</td>\n",
       "      <td>990</td>\n",
       "      <td>56.410256</td>\n",
       "      <td>5</td>\n",
       "    </tr>\n",
       "  </tbody>\n",
       "</table>\n",
       "</div>"
      ],
      "text/plain": [
       "            Snapshot Date Checkin Date  Days  Original Price  Discount Price  \\\n",
       "Snapshot ID                                                                    \n",
       "194            2015-09-02   2015-09-03     5            5495            1735   \n",
       "428            2015-10-01   2015-10-22     5            3193            1012   \n",
       "428            2015-10-01   2015-10-20     5            3274            1093   \n",
       "537            2015-11-26   2015-12-01     5            1755             765   \n",
       "537            2015-11-26   2015-12-01     5            1755             765   \n",
       "\n",
       "             Discount Code  Available Rooms  \\\n",
       "Snapshot ID                                   \n",
       "194                      1                2   \n",
       "428                      3                1   \n",
       "428                      2                1   \n",
       "537                      3               -1   \n",
       "537                      2               -1   \n",
       "\n",
       "                                         Hotel Name  Hotel Stars WeekDay  \\\n",
       "Snapshot ID                                                                \n",
       "194          Hyatt Place Flushing LaGuardia Airport            3     Thu   \n",
       "428                 Manhattan Broadway Budget Hotel            2     Thu   \n",
       "428                 Manhattan Broadway Budget Hotel            2     Tue   \n",
       "537                   Comfort Inn Times Square West            2     Tue   \n",
       "537                   Comfort Inn Times Square West            2     Tue   \n",
       "\n",
       "             DiscountDiff  DiscountPerc  DayDiff  \n",
       "Snapshot ID                                       \n",
       "194                  3760     68.425842        1  \n",
       "428                  2181     68.305669       21  \n",
       "428                  2181     66.615761       19  \n",
       "537                   990     56.410256        5  \n",
       "537                   990     56.410256        5  "
      ]
     },
     "execution_count": 6,
     "metadata": {},
     "output_type": "execute_result"
    }
   ],
   "source": [
    "df.head()"
   ]
  },
  {
   "cell_type": "code",
   "execution_count": 7,
   "metadata": {},
   "outputs": [
    {
     "data": {
      "text/plain": [
       "2442024"
      ]
     },
     "execution_count": 7,
     "metadata": {},
     "output_type": "execute_result"
    }
   ],
   "source": [
    "df.size"
   ]
  },
  {
   "cell_type": "code",
   "execution_count": 8,
   "metadata": {},
   "outputs": [
    {
     "data": {
      "text/plain": [
       "Snapshot Date      187848\n",
       "Checkin Date       187848\n",
       "Days               187848\n",
       "Original Price     187848\n",
       "Discount Price     187848\n",
       "Discount Code      187848\n",
       "Available Rooms    187848\n",
       "Hotel Name         187848\n",
       "Hotel Stars        187848\n",
       "WeekDay            187848\n",
       "DiscountDiff       187848\n",
       "DiscountPerc       187848\n",
       "DayDiff            187848\n",
       "dtype: int64"
      ]
     },
     "execution_count": 8,
     "metadata": {},
     "output_type": "execute_result"
    }
   ],
   "source": [
    "df.count()"
   ]
  },
  {
   "cell_type": "code",
   "execution_count": 9,
   "metadata": {},
   "outputs": [],
   "source": [
    "df=df.drop_duplicates(subset=['WeekDay','Hotel Name','DayDiff','Checkin Date','Snapshot Date'])"
   ]
  },
  {
   "cell_type": "code",
   "execution_count": 10,
   "metadata": {},
   "outputs": [],
   "source": [
    "df=df.rename(index=str, columns={\"Discount Code\": \"Class\"})"
   ]
  },
  {
   "cell_type": "code",
   "execution_count": 11,
   "metadata": {},
   "outputs": [
    {
     "data": {
      "text/plain": [
       "1394887"
      ]
     },
     "execution_count": 11,
     "metadata": {},
     "output_type": "execute_result"
    }
   ],
   "source": [
    "df.size"
   ]
  },
  {
   "cell_type": "code",
   "execution_count": 12,
   "metadata": {},
   "outputs": [
    {
     "data": {
      "text/plain": [
       "Snapshot Date      107299\n",
       "Checkin Date       107299\n",
       "Days               107299\n",
       "Original Price     107299\n",
       "Discount Price     107299\n",
       "Class              107299\n",
       "Available Rooms    107299\n",
       "Hotel Name         107299\n",
       "Hotel Stars        107299\n",
       "WeekDay            107299\n",
       "DiscountDiff       107299\n",
       "DiscountPerc       107299\n",
       "DayDiff            107299\n",
       "dtype: int64"
      ]
     },
     "execution_count": 12,
     "metadata": {},
     "output_type": "execute_result"
    }
   ],
   "source": [
    "df.count()"
   ]
  },
  {
   "cell_type": "code",
   "execution_count": 13,
   "metadata": {},
   "outputs": [],
   "source": [
    "df.to_csv('Hotels_classification.csv',index=False)"
   ]
  },
  {
   "cell_type": "code",
   "execution_count": 14,
   "metadata": {},
   "outputs": [],
   "source": [
    "classification=pd.DataFrame.from_csv('Hotels_classification.csv')"
   ]
  },
  {
   "cell_type": "code",
   "execution_count": 15,
   "metadata": {},
   "outputs": [
    {
     "data": {
      "text/plain": [
       "1287588"
      ]
     },
     "execution_count": 15,
     "metadata": {},
     "output_type": "execute_result"
    }
   ],
   "source": [
    "classification.size"
   ]
  },
  {
   "cell_type": "code",
   "execution_count": 16,
   "metadata": {},
   "outputs": [
    {
     "data": {
      "text/plain": [
       "Checkin Date       107299\n",
       "Days               107299\n",
       "Original Price     107299\n",
       "Discount Price     107299\n",
       "Class              107299\n",
       "Available Rooms    107299\n",
       "Hotel Name         107299\n",
       "Hotel Stars        107299\n",
       "WeekDay            107299\n",
       "DiscountDiff       107299\n",
       "DiscountPerc       107299\n",
       "DayDiff            107299\n",
       "dtype: int64"
      ]
     },
     "execution_count": 16,
     "metadata": {},
     "output_type": "execute_result"
    }
   ],
   "source": [
    "classification.count()"
   ]
  },
  {
   "cell_type": "code",
   "execution_count": 17,
   "metadata": {},
   "outputs": [
    {
     "data": {
      "text/html": [
       "<div>\n",
       "<style>\n",
       "    .dataframe thead tr:only-child th {\n",
       "        text-align: right;\n",
       "    }\n",
       "\n",
       "    .dataframe thead th {\n",
       "        text-align: left;\n",
       "    }\n",
       "\n",
       "    .dataframe tbody tr th {\n",
       "        vertical-align: top;\n",
       "    }\n",
       "</style>\n",
       "<table border=\"1\" class=\"dataframe\">\n",
       "  <thead>\n",
       "    <tr style=\"text-align: right;\">\n",
       "      <th></th>\n",
       "      <th>Checkin Date</th>\n",
       "      <th>Days</th>\n",
       "      <th>Original Price</th>\n",
       "      <th>Discount Price</th>\n",
       "      <th>Class</th>\n",
       "      <th>Available Rooms</th>\n",
       "      <th>Hotel Name</th>\n",
       "      <th>Hotel Stars</th>\n",
       "      <th>WeekDay</th>\n",
       "      <th>DiscountDiff</th>\n",
       "      <th>DiscountPerc</th>\n",
       "      <th>DayDiff</th>\n",
       "    </tr>\n",
       "    <tr>\n",
       "      <th>Snapshot Date</th>\n",
       "      <th></th>\n",
       "      <th></th>\n",
       "      <th></th>\n",
       "      <th></th>\n",
       "      <th></th>\n",
       "      <th></th>\n",
       "      <th></th>\n",
       "      <th></th>\n",
       "      <th></th>\n",
       "      <th></th>\n",
       "      <th></th>\n",
       "      <th></th>\n",
       "    </tr>\n",
       "  </thead>\n",
       "  <tbody>\n",
       "    <tr>\n",
       "      <th>2015-09-02</th>\n",
       "      <td>2015-09-03</td>\n",
       "      <td>5</td>\n",
       "      <td>5495</td>\n",
       "      <td>1735</td>\n",
       "      <td>1</td>\n",
       "      <td>2</td>\n",
       "      <td>Hyatt Place Flushing LaGuardia Airport</td>\n",
       "      <td>3</td>\n",
       "      <td>Thu</td>\n",
       "      <td>3760</td>\n",
       "      <td>68.425842</td>\n",
       "      <td>1</td>\n",
       "    </tr>\n",
       "    <tr>\n",
       "      <th>2015-10-01</th>\n",
       "      <td>2015-10-22</td>\n",
       "      <td>5</td>\n",
       "      <td>3193</td>\n",
       "      <td>1012</td>\n",
       "      <td>3</td>\n",
       "      <td>1</td>\n",
       "      <td>Manhattan Broadway Budget Hotel</td>\n",
       "      <td>2</td>\n",
       "      <td>Thu</td>\n",
       "      <td>2181</td>\n",
       "      <td>68.305669</td>\n",
       "      <td>21</td>\n",
       "    </tr>\n",
       "    <tr>\n",
       "      <th>2015-10-01</th>\n",
       "      <td>2015-10-20</td>\n",
       "      <td>5</td>\n",
       "      <td>3274</td>\n",
       "      <td>1093</td>\n",
       "      <td>2</td>\n",
       "      <td>1</td>\n",
       "      <td>Manhattan Broadway Budget Hotel</td>\n",
       "      <td>2</td>\n",
       "      <td>Tue</td>\n",
       "      <td>2181</td>\n",
       "      <td>66.615761</td>\n",
       "      <td>19</td>\n",
       "    </tr>\n",
       "    <tr>\n",
       "      <th>2015-11-26</th>\n",
       "      <td>2015-12-01</td>\n",
       "      <td>5</td>\n",
       "      <td>1755</td>\n",
       "      <td>765</td>\n",
       "      <td>3</td>\n",
       "      <td>-1</td>\n",
       "      <td>Comfort Inn Times Square West</td>\n",
       "      <td>2</td>\n",
       "      <td>Tue</td>\n",
       "      <td>990</td>\n",
       "      <td>56.410256</td>\n",
       "      <td>5</td>\n",
       "    </tr>\n",
       "    <tr>\n",
       "      <th>2015-11-19</th>\n",
       "      <td>2015-11-21</td>\n",
       "      <td>5</td>\n",
       "      <td>1995</td>\n",
       "      <td>905</td>\n",
       "      <td>4</td>\n",
       "      <td>-1</td>\n",
       "      <td>New York Hilton Midtown</td>\n",
       "      <td>4</td>\n",
       "      <td>Sat</td>\n",
       "      <td>1090</td>\n",
       "      <td>54.636591</td>\n",
       "      <td>2</td>\n",
       "    </tr>\n",
       "  </tbody>\n",
       "</table>\n",
       "</div>"
      ],
      "text/plain": [
       "              Checkin Date  Days  Original Price  Discount Price  Class  \\\n",
       "Snapshot Date                                                             \n",
       "2015-09-02      2015-09-03     5            5495            1735      1   \n",
       "2015-10-01      2015-10-22     5            3193            1012      3   \n",
       "2015-10-01      2015-10-20     5            3274            1093      2   \n",
       "2015-11-26      2015-12-01     5            1755             765      3   \n",
       "2015-11-19      2015-11-21     5            1995             905      4   \n",
       "\n",
       "               Available Rooms                              Hotel Name  \\\n",
       "Snapshot Date                                                            \n",
       "2015-09-02                   2  Hyatt Place Flushing LaGuardia Airport   \n",
       "2015-10-01                   1         Manhattan Broadway Budget Hotel   \n",
       "2015-10-01                   1         Manhattan Broadway Budget Hotel   \n",
       "2015-11-26                  -1           Comfort Inn Times Square West   \n",
       "2015-11-19                  -1                 New York Hilton Midtown   \n",
       "\n",
       "               Hotel Stars WeekDay  DiscountDiff  DiscountPerc  DayDiff  \n",
       "Snapshot Date                                                            \n",
       "2015-09-02               3     Thu          3760     68.425842        1  \n",
       "2015-10-01               2     Thu          2181     68.305669       21  \n",
       "2015-10-01               2     Tue          2181     66.615761       19  \n",
       "2015-11-26               2     Tue           990     56.410256        5  \n",
       "2015-11-19               4     Sat          1090     54.636591        2  "
      ]
     },
     "execution_count": 17,
     "metadata": {},
     "output_type": "execute_result"
    }
   ],
   "source": [
    "classification.head()"
   ]
  }
 ],
 "metadata": {
  "kernelspec": {
   "display_name": "Python 2",
   "language": "python",
   "name": "python2"
  },
  "language_info": {
   "codemirror_mode": {
    "name": "ipython",
    "version": 2
   },
   "file_extension": ".py",
   "mimetype": "text/x-python",
   "name": "python",
   "nbconvert_exporter": "python",
   "pygments_lexer": "ipython2",
   "version": "2.7.14"
  }
 },
 "nbformat": 4,
 "nbformat_minor": 2
}
