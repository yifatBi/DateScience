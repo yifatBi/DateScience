{
 "cells": [
  {
   "cell_type": "code",
   "execution_count": 1,
   "metadata": {},
   "outputs": [],
   "source": [
    "from pyspark.sql import SparkSession\n",
    "spark = SparkSession.builder.appName('Assigment4').getOrCreate()"
   ]
  },
  {
   "cell_type": "code",
   "execution_count": 2,
   "metadata": {},
   "outputs": [],
   "source": [
    "# Load the new hotels file\n",
    "base_df = spark.read.csv('Hotels_data_Changed.csv',inferSchema=True,header=True)"
   ]
  },
  {
   "cell_type": "code",
   "execution_count": 3,
   "metadata": {},
   "outputs": [
    {
     "name": "stdout",
     "output_type": "stream",
     "text": [
      "+-----------+-------------------+-------------------+----+--------------+--------------+-------------+---------------+--------------------+-----------+-------+------------+-------------+-------+\n",
      "|Snapshot ID|      Snapshot Date|       Checkin Date|Days|Original Price|Discount Price|Discount Code|Available Rooms|          Hotel Name|Hotel Stars|WeekDay|DiscountDiff| DiscountPerc|DayDiff|\n",
      "+-----------+-------------------+-------------------+----+--------------+--------------+-------------+---------------+--------------------+-----------+-------+------------+-------------+-------+\n",
      "|          1|2015-07-17 00:00:00|2015-08-12 00:00:00|   5|          1178|          1040|            1|              6|Best Western Plus...|          3|    Wed|         138| 11.714770798|     26|\n",
      "|          1|2015-07-17 00:00:00|2015-08-19 00:00:00|   5|          1113|           982|            1|              8|Best Western Plus...|          3|    Wed|         131|11.7699910153|     33|\n",
      "+-----------+-------------------+-------------------+----+--------------+--------------+-------------+---------------+--------------------+-----------+-------+------------+-------------+-------+\n",
      "only showing top 2 rows\n",
      "\n"
     ]
    }
   ],
   "source": [
    "base_df.show(2)"
   ]
  },
  {
   "cell_type": "code",
   "execution_count": 4,
   "metadata": {},
   "outputs": [
    {
     "data": {
      "text/plain": [
       "[Row(Hotel Name='Newark Liberty International Airport Marriott', count=5346),\n",
       " Row(Hotel Name='Hilton Garden Inn Times Square', count=4892),\n",
       " Row(Hotel Name='Residence Inn Newark Elizabeth Liberty International Airport', count=4314),\n",
       " Row(Hotel Name='Westin New York at Times Square', count=3792),\n",
       " Row(Hotel Name='Loews Regency New York Hotel', count=3617),\n",
       " Row(Hotel Name='Viceroy New York', count=3565),\n",
       " Row(Hotel Name='Four Seasons Hotel New York', count=3243),\n",
       " Row(Hotel Name='Langham Place New York Fifth Avenue', count=3203),\n",
       " Row(Hotel Name='The Carlyle A Rosewood Hotel', count=3078),\n",
       " Row(Hotel Name='DoubleTree by Hilton Metropolitan - New York City', count=2866),\n",
       " Row(Hotel Name='Magnuson Convention Center Hotel', count=2862),\n",
       " Row(Hotel Name='Hilton Garden Inn New York West 35th Street', count=2822),\n",
       " Row(Hotel Name='Hilton Garden Inn New York-Times Square Central', count=2772),\n",
       " Row(Hotel Name='Conrad New York', count=2677),\n",
       " Row(Hotel Name='Wyndham Garden Brooklyn Sunset Park', count=2599),\n",
       " Row(Hotel Name='Hilton Newark Airport', count=2524),\n",
       " Row(Hotel Name='Omni Berkshire Place', count=2358),\n",
       " Row(Hotel Name='Hilton Times Square', count=2273),\n",
       " Row(Hotel Name='Park Hyatt New York', count=2226),\n",
       " Row(Hotel Name='Homewood Suites by Hilton NY Midtown Manhattan Times Square', count=2211),\n",
       " Row(Hotel Name='Grand Hyatt New York', count=2165),\n",
       " Row(Hotel Name='The Plaza Hotel', count=2149),\n",
       " Row(Hotel Name='Quality Inn Woodside', count=2140),\n",
       " Row(Hotel Name='Hyatt Union Square New York', count=2114),\n",
       " Row(Hotel Name='Le Parker Meridien New York', count=2109),\n",
       " Row(Hotel Name='The New York EDITION', count=2073),\n",
       " Row(Hotel Name='W New York - Union Square', count=2025),\n",
       " Row(Hotel Name='Renaissance Newark Airport Hotel', count=1951),\n",
       " Row(Hotel Name='Hampton Inn New York - 35th Street - Empire State Building', count=1930),\n",
       " Row(Hotel Name='The Lexington New York City Autograph Collection', count=1920),\n",
       " Row(Hotel Name='The Roosevelt Hotel New York City', count=1894),\n",
       " Row(Hotel Name='Hilton Garden Inn New York Midtown Park Ave', count=1855),\n",
       " Row(Hotel Name='McCarren Hotel & Pool', count=1835),\n",
       " Row(Hotel Name='Cassa Hotel 45th Street', count=1834),\n",
       " Row(Hotel Name='Hyatt Herald Square New York', count=1834),\n",
       " Row(Hotel Name='Martha Washington', count=1820),\n",
       " Row(Hotel Name='W New York Times Square', count=1710),\n",
       " Row(Hotel Name='Hyatt Place New York Midtown South', count=1700),\n",
       " Row(Hotel Name='DoubleTree by Hilton Hotel Newark Airport', count=1688),\n",
       " Row(Hotel Name='Hampton Inn Manhattan United Nations', count=1578),\n",
       " Row(Hotel Name='Millenium Hilton', count=1564),\n",
       " Row(Hotel Name='Hampton Inn Madison Square Garden Area Hotel', count=1563),\n",
       " Row(Hotel Name='The Towers of the Waldorf Astoria New York', count=1555),\n",
       " Row(Hotel Name='Smyth A Thompson Hotel', count=1536),\n",
       " Row(Hotel Name='DoubleTree by Hilton New York City - Chelsea', count=1536),\n",
       " Row(Hotel Name='DoubleTree by Hilton New York City - Financial District', count=1496),\n",
       " Row(Hotel Name='Hampton Inn Manhattan Soho', count=1462),\n",
       " Row(Hotel Name='Hilton Garden Inn New York Manhattan-Midtown East', count=1446),\n",
       " Row(Hotel Name='Hampton Inn Manhattan Downtown-Financial District', count=1421),\n",
       " Row(Hotel Name='Red Carpet Inn New York City', count=1412),\n",
       " Row(Hotel Name='Hampton Inn Manhattan Times Square Central', count=1381),\n",
       " Row(Hotel Name='Hilton Garden Inn New York Central Park South-Midtown West', count=1380),\n",
       " Row(Hotel Name='Andaz 5th Avenue - a concept by Hyatt', count=1338),\n",
       " Row(Hotel Name='Hilton Garden Inn New York Manhattan-Chelsea', count=1290),\n",
       " Row(Hotel Name='Gild Hall A Thompson Hotel', count=1282),\n",
       " Row(Hotel Name='Hilton Manhattan East', count=1247),\n",
       " Row(Hotel Name='Waldorf Astoria New York', count=1227),\n",
       " Row(Hotel Name='Sheraton New York Times Square Hotel', count=1223),\n",
       " Row(Hotel Name='Hampton Inn Manhattan-Seaport-Financial District', count=1209),\n",
       " Row(Hotel Name='Fairfield Inn by Marriott LaGuardia Airport Flushing', count=1197),\n",
       " Row(Hotel Name='W New York - Downtown', count=1116),\n",
       " Row(Hotel Name='Hilton New York Fashion District', count=1094),\n",
       " Row(Hotel Name='Hyatt Times Square New York', count=1072),\n",
       " Row(Hotel Name='Hampton Inn Manhattan Times Square South', count=1018),\n",
       " Row(Hotel Name='New York Marriott at the Brooklyn Bridge', count=1016),\n",
       " Row(Hotel Name='New York Marriott Downtown', count=1009),\n",
       " Row(Hotel Name='Hilton Garden Inn New York Long Island City', count=985),\n",
       " Row(Hotel Name='Manhattan NYC-an Affinia hotel', count=971),\n",
       " Row(Hotel Name='The Muse Hotel a Kimpton Hotel', count=926),\n",
       " Row(Hotel Name='New York Hilton Midtown', count=919),\n",
       " Row(Hotel Name='W New York', count=910),\n",
       " Row(Hotel Name='Andaz Wall Street - a concept by Hyatt', count=869),\n",
       " Row(Hotel Name='United Nations Apartment Hotel', count=861),\n",
       " Row(Hotel Name='The Westin New York Grand Central', count=832),\n",
       " Row(Hotel Name='The Peninsula New York', count=811),\n",
       " Row(Hotel Name='NOMO SOHO', count=810),\n",
       " Row(Hotel Name='Home2 Suites by Hilton NY Long Island City Manhattan View', count=810),\n",
       " Row(Hotel Name='The Standard East Village', count=737),\n",
       " Row(Hotel Name='DoubleTree Suites by Hilton New York City - Times Square', count=697),\n",
       " Row(Hotel Name='SpringHill Suites by Marriott Newark Liberty International', count=682),\n",
       " Row(Hotel Name='Eventi Hotel a Kimpton Hotel', count=617),\n",
       " Row(Hotel Name='Hampton Inn New York Chelsea', count=605),\n",
       " Row(Hotel Name='Comfort Inn Times Square South Area', count=553),\n",
       " Row(Hotel Name='The Pearl New York', count=545),\n",
       " Row(Hotel Name='DoubleTree by Hilton Hotel New York - Times Square South', count=525),\n",
       " Row(Hotel Name='The Chatwal a Luxury Collection Hotel New York City', count=501),\n",
       " Row(Hotel Name='Howard Johnson Inn Jamaica JFK Airport NYC', count=496),\n",
       " Row(Hotel Name='Hampton Inn & Suites Staten Island', count=494),\n",
       " Row(Hotel Name='Howard Johnson Flushing', count=484),\n",
       " Row(Hotel Name='Ramada Long Island City', count=466),\n",
       " Row(Hotel Name='SIXTY Lower East Side', count=464),\n",
       " Row(Hotel Name='Courtyard by Marriott New York Manhattan SoHo', count=463),\n",
       " Row(Hotel Name='Best Western Bayside Inn', count=421),\n",
       " Row(Hotel Name='Quality Inn Convention Center', count=413),\n",
       " Row(Hotel Name='Courtyard by Marriott New York Manhattan Times Square', count=412),\n",
       " Row(Hotel Name='Sheraton LaGuardia East Hotel', count=387),\n",
       " Row(Hotel Name='The Premier Hotel New York', count=385),\n",
       " Row(Hotel Name='Hampton Inn JFK Airport', count=382),\n",
       " Row(Hotel Name='Radisson Martinique on Broadway', count=380),\n",
       " Row(Hotel Name='GEM Hotel - Chelsea an Ascend Hotel Collection Member', count=369),\n",
       " Row(Hotel Name='Residence Inn by Marriott New York Manhattan Midtown East', count=347),\n",
       " Row(Hotel Name='Holiday Inn New York JFK Airport Area', count=337),\n",
       " Row(Hotel Name='The High Line Hotel', count=337),\n",
       " Row(Hotel Name='Courtyard by Marriott New York City Manhattan Fifth Avenue', count=334),\n",
       " Row(Hotel Name='The SunBright', count=325),\n",
       " Row(Hotel Name='New York Marriott East Side', count=325),\n",
       " Row(Hotel Name='Hampton Inn Times Square North', count=318),\n",
       " Row(Hotel Name='Shelburne NYC-an Affinia hotel', count=317),\n",
       " Row(Hotel Name='The Lombardy', count=305),\n",
       " Row(Hotel Name='Wyndham Garden - Manhattan Chelsea West', count=305),\n",
       " Row(Hotel Name='Wyndham Garden Long Island City Manhattan View', count=299),\n",
       " Row(Hotel Name='Best Western Plus Newark Airport West', count=292),\n",
       " Row(Hotel Name='Best Western Plus Arena Hotel', count=289),\n",
       " Row(Hotel Name='Bentley Hotel', count=288),\n",
       " Row(Hotel Name='ink48 hotel a Kimpton Hotel', count=275),\n",
       " Row(Hotel Name='Courtyard by Marriott New York Manhattan Upper East Side', count=274),\n",
       " Row(Hotel Name='Howard Johnson Bronx Near Stadium', count=273),\n",
       " Row(Hotel Name='Embassy Suites Newark Airport', count=269),\n",
       " Row(Hotel Name='Hotel 48LEX New York', count=268),\n",
       " Row(Hotel Name='Hilton Garden Inn Tribeca', count=267),\n",
       " Row(Hotel Name='Residence Inn New York The Bronx At Metro Center Atrium', count=260),\n",
       " Row(Hotel Name='Hyatt Place Flushing LaGuardia Airport', count=256),\n",
       " Row(Hotel Name='San Carlos Hotel', count=254),\n",
       " Row(Hotel Name='The Roger', count=253),\n",
       " Row(Hotel Name='Wyndham New Yorker', count=242),\n",
       " Row(Hotel Name='Roxy Hotel Tribeca (formerly the Tribeca Grand Hotel)', count=240),\n",
       " Row(Hotel Name='Courtyard Newark Elizabeth', count=234),\n",
       " Row(Hotel Name='The St. Regis New York', count=233),\n",
       " Row(Hotel Name='Best Western Bowery Hanbee Hotel', count=233),\n",
       " Row(Hotel Name='Crowne Plaza Times Square Manhattan', count=231),\n",
       " Row(Hotel Name='Hudson New York Central Park', count=228),\n",
       " Row(Hotel Name='Hampton Inn New York - LaGuardia Airport', count=225),\n",
       " Row(Hotel Name='Wyndham Garden Chinatown', count=222),\n",
       " Row(Hotel Name='Courtyard New York Manhattan Times Square West', count=214),\n",
       " Row(Hotel Name='The Kitano New York', count=211),\n",
       " Row(Hotel Name='Aloft Harlem', count=210),\n",
       " Row(Hotel Name='Super 8 Brooklyn   Park Slope Hotel', count=209),\n",
       " Row(Hotel Name='Baccarat Hotel and Residences New York', count=204),\n",
       " Row(Hotel Name='The Mark', count=201),\n",
       " Row(Hotel Name='Chelsea Inn', count=199),\n",
       " Row(Hotel Name='The Out NYC', count=199),\n",
       " Row(Hotel Name='Courtyard by Marriott New York Manhattan   Central Park', count=197),\n",
       " Row(Hotel Name='Hilton New York JFK Airport', count=194),\n",
       " Row(Hotel Name='Blakely New York', count=194),\n",
       " Row(Hotel Name='Days Inn Bronx Near Stadium', count=193),\n",
       " Row(Hotel Name='The Benjamin', count=189),\n",
       " Row(Hotel Name='The Shoreham Hotel', count=188),\n",
       " Row(Hotel Name='Jet Luxury at the Trump SoHo', count=187),\n",
       " Row(Hotel Name='TRYP By Wyndham Times Square South', count=180),\n",
       " Row(Hotel Name='Dumont NYC-an Affinia hotel', count=180)]"
      ]
     },
     "execution_count": 4,
     "metadata": {},
     "output_type": "execute_result"
    }
   ],
   "source": [
    "from pyspark.sql.functions import col\n",
    "\n",
    "# Get 150 Hotels that have the most rows in data\n",
    "tophotels = base_df.groupBy(\"Hotel Name\").count().sort(col(\"count\").desc()).head(150)\n",
    "tophotels"
   ]
  },
  {
   "cell_type": "code",
   "execution_count": 5,
   "metadata": {
    "scrolled": true
   },
   "outputs": [
    {
     "name": "stdout",
     "output_type": "stream",
     "text": [
      "+-----------+-------------------+-------------------+----+--------------+--------------+-------------+---------------+-------------+-----------+-------+------------+-------------+-------+\n",
      "|Snapshot ID|      Snapshot Date|       Checkin Date|Days|Original Price|Discount Price|Discount Code|Available Rooms|   Hotel_Name|Hotel Stars|WeekDay|DiscountDiff| DiscountPerc|DayDiff|\n",
      "+-----------+-------------------+-------------------+----+--------------+--------------+-------------+---------------+-------------+-----------+-------+------------+-------------+-------+\n",
      "|        101|2015-08-16 00:00:00|2015-08-17 00:00:00|   5|          2055|          1989|            1|              1|Bentley Hotel|          4|    Mon|          66|3.21167883212|      1|\n",
      "|        101|2015-08-16 00:00:00|2015-09-06 00:00:00|   5|          1409|          1348|            2|              3|Bentley Hotel|          4|    Sun|          61|4.32931156849|     21|\n",
      "+-----------+-------------------+-------------------+----+--------------+--------------+-------------+---------------+-------------+-----------+-------+------------+-------------+-------+\n",
      "only showing top 2 rows\n",
      "\n"
     ]
    }
   ],
   "source": [
    "# convert the name + count list to dataframe and create a view for it\n",
    "top_hotel_names_df = spark.sparkContext.parallelize(tophotels).toDF(['hotel_name','COUNT'])\n",
    "top_hotel_names_df.createOrReplaceTempView(\"topHotelNames\")\n",
    "\n",
    "# Change a column name to handle in query\n",
    "base_df.withColumnRenamed('Hotel Name','Hotel_Name').createOrReplaceTempView(\"base_df\")\n",
    "\n",
    "# Reduced the rows listed to only the ones that are among top 150 names\n",
    "top_hotels_filtered_base_df = spark.sql(\"SELECT * FROM base_df WHERE Hotel_Name IN (SELECT hotel_name FROM topHotelNames)\")\n",
    "top_hotels_filtered_base_df.show(2)"
   ]
  },
  {
   "cell_type": "code",
   "execution_count": 6,
   "metadata": {},
   "outputs": [
    {
     "name": "stdout",
     "output_type": "stream",
     "text": [
      "+-------------------+-----+\n",
      "|       Checkin Date|count|\n",
      "+-------------------+-----+\n",
      "|2015-11-11 00:00:00| 2302|\n",
      "|2015-10-14 00:00:00| 1887|\n",
      "|2015-11-04 00:00:00| 1885|\n",
      "|2015-08-19 00:00:00| 1883|\n",
      "|2015-10-28 00:00:00| 1861|\n",
      "|2015-10-21 00:00:00| 1817|\n",
      "|2015-11-06 00:00:00| 1808|\n",
      "|2015-08-12 00:00:00| 1765|\n",
      "|2015-11-05 00:00:00| 1684|\n",
      "|2015-10-22 00:00:00| 1662|\n",
      "|2015-11-12 00:00:00| 1649|\n",
      "|2015-09-10 00:00:00| 1623|\n",
      "|2015-10-29 00:00:00| 1623|\n",
      "|2015-09-09 00:00:00| 1616|\n",
      "|2015-11-18 00:00:00| 1582|\n",
      "|2015-08-26 00:00:00| 1559|\n",
      "|2015-11-10 00:00:00| 1548|\n",
      "|2015-11-13 00:00:00| 1547|\n",
      "|2015-10-15 00:00:00| 1473|\n",
      "|2015-11-21 00:00:00| 1469|\n",
      "|2015-09-30 00:00:00| 1464|\n",
      "|2015-10-30 00:00:00| 1412|\n",
      "|2015-09-16 00:00:00| 1407|\n",
      "|2015-09-17 00:00:00| 1402|\n",
      "|2015-11-28 00:00:00| 1383|\n",
      "|2015-10-01 00:00:00| 1373|\n",
      "|2015-11-26 00:00:00| 1356|\n",
      "|2015-09-11 00:00:00| 1332|\n",
      "|2015-09-18 00:00:00| 1326|\n",
      "|2015-10-16 00:00:00| 1309|\n",
      "|2015-11-27 00:00:00| 1306|\n",
      "|2015-10-02 00:00:00| 1280|\n",
      "|2015-10-07 00:00:00| 1257|\n",
      "|2015-11-07 00:00:00| 1256|\n",
      "|2015-08-28 00:00:00| 1251|\n",
      "|2015-08-27 00:00:00| 1239|\n",
      "|2015-10-27 00:00:00| 1227|\n",
      "|2015-11-03 00:00:00| 1215|\n",
      "|2015-08-13 00:00:00| 1210|\n",
      "|2015-11-25 00:00:00| 1175|\n",
      "+-------------------+-----+\n",
      "\n"
     ]
    }
   ],
   "source": [
    "# Get 40 Checkin dates that have the most rows in top 150 hotels data\n",
    "top_checkin_dates = top_hotels_filtered_base_df.groupBy(\"Checkin Date\").count().sort(col(\"count\").desc()).head(40)\n",
    "\n",
    "# convert the checkin date + count list to dataframe and create a view for it\n",
    "top_checkin_dates_df = spark.sparkContext.parallelize(top_checkin_dates).toDF()\n",
    "top_checkin_dates_df.show(40)"
   ]
  },
  {
   "cell_type": "code",
   "execution_count": 7,
   "metadata": {},
   "outputs": [
    {
     "name": "stdout",
     "output_type": "stream",
     "text": [
      "+-------------------+-----+\n",
      "|       Checkin_Date|count|\n",
      "+-------------------+-----+\n",
      "|2015-11-11 00:00:00| 2302|\n",
      "|2015-10-14 00:00:00| 1887|\n",
      "|2015-11-04 00:00:00| 1885|\n",
      "+-------------------+-----+\n",
      "only showing top 3 rows\n",
      "\n"
     ]
    }
   ],
   "source": [
    "# Change a column name to handle in query\n",
    "top_checkin_dates_df = top_checkin_dates_df.withColumnRenamed('Checkin Date','Checkin_Date')\n",
    "top_checkin_dates_df.show(3)"
   ]
  },
  {
   "cell_type": "code",
   "execution_count": 8,
   "metadata": {},
   "outputs": [
    {
     "name": "stdout",
     "output_type": "stream",
     "text": [
      "+--------------------+-------------------+-------------+--------------+\n",
      "|          Hotel_Name|       Checkin_Date|Discount_Code|Discount_Price|\n",
      "+--------------------+-------------------+-------------+--------------+\n",
      "|Westin New York a...|2015-11-26 00:00:00|            2|          1845|\n",
      "|Westin New York a...|2015-11-26 00:00:00|            3|          1696|\n",
      "|Westin New York a...|2015-11-26 00:00:00|            4|          1646|\n",
      "|Westin New York a...|2015-11-26 00:00:00|            2|          1845|\n",
      "|Westin New York a...|2015-11-26 00:00:00|            3|          1696|\n",
      "|Westin New York a...|2015-11-26 00:00:00|            4|          1646|\n",
      "|Westin New York a...|2015-11-26 00:00:00|            2|          1845|\n",
      "|Westin New York a...|2015-11-26 00:00:00|            3|          1696|\n",
      "|Westin New York a...|2015-11-26 00:00:00|            4|          1646|\n",
      "|Westin New York a...|2015-11-26 00:00:00|            2|          1845|\n",
      "|Westin New York a...|2015-11-26 00:00:00|            3|          1696|\n",
      "|Westin New York a...|2015-11-26 00:00:00|            4|          1646|\n",
      "|Westin New York a...|2015-11-26 00:00:00|            2|          1845|\n",
      "|Westin New York a...|2015-11-26 00:00:00|            3|          1696|\n",
      "|Westin New York a...|2015-11-26 00:00:00|            4|          1646|\n",
      "|Westin New York a...|2015-11-26 00:00:00|            2|          1775|\n",
      "|Westin New York a...|2015-11-26 00:00:00|            3|          1626|\n",
      "|Westin New York a...|2015-11-26 00:00:00|            4|          1576|\n",
      "|Westin New York a...|2015-11-26 00:00:00|            2|          1775|\n",
      "|Westin New York a...|2015-11-26 00:00:00|            3|          1626|\n",
      "+--------------------+-------------------+-------------+--------------+\n",
      "only showing top 20 rows\n",
      "\n"
     ]
    }
   ],
   "source": [
    "# Create filtered data for top hotels with top dates\n",
    "\n",
    "top_checkin_dates_df.createOrReplaceTempView(\"topCheckinDates\")\n",
    "\n",
    "# Change a column name to handle in query\n",
    "top_hotels_filtered_base_df.withColumnRenamed('Checkin Date','Checkin_Date').withColumnRenamed('Discount Price','Discount_Price').withColumnRenamed('Discount Code','Discount_Code').createOrReplaceTempView(\"top_hotels_filtered_base\")\n",
    "\n",
    "# Reduced the rows listed to only the ones that are among top 40 checkin dates\n",
    "hotel_rows_for_top_dates = spark.sql(\"SELECT Hotel_Name, Checkin_Date, Discount_Code, Discount_Price FROM top_hotels_filtered_base WHERE Checkin_Date IN (SELECT Checkin_Date FROM topCheckinDates)\")\n",
    "\n",
    "hotel_rows_for_top_dates.show()"
   ]
  },
  {
   "cell_type": "code",
   "execution_count": 9,
   "metadata": {},
   "outputs": [],
   "source": [
    "# Creates dataframe for combination of hotels with checkin dates\n",
    "only_hotel_names_df = top_hotel_names_df.drop(\"COUNT\")\n",
    "only_checkin_dates_df = top_checkin_dates_df.drop(\"COUNT\")\n",
    "joint_df = only_hotel_names_df.crossJoin(only_checkin_dates_df)"
   ]
  },
  {
   "cell_type": "code",
   "execution_count": 10,
   "metadata": {},
   "outputs": [
    {
     "name": "stdout",
     "output_type": "stream",
     "text": [
      "+--------------------+-------------------+\n",
      "|          hotel_name|       Checkin_Date|\n",
      "+--------------------+-------------------+\n",
      "|Newark Liberty In...|2015-11-11 00:00:00|\n",
      "|Newark Liberty In...|2015-10-14 00:00:00|\n",
      "+--------------------+-------------------+\n",
      "only showing top 2 rows\n",
      "\n"
     ]
    }
   ],
   "source": [
    "joint_df.show(2)"
   ]
  },
  {
   "cell_type": "code",
   "execution_count": 11,
   "metadata": {},
   "outputs": [],
   "source": [
    "# Creates dataframe for combination of hotels with checkin dates and discount codes\n",
    "discount_codes_df = spark.range(1,5).withColumnRenamed(\"id\",\"discount_code\")\n",
    "joint_with_price_codes_df = joint_df.crossJoin(discount_codes_df)"
   ]
  },
  {
   "cell_type": "code",
   "execution_count": 12,
   "metadata": {},
   "outputs": [
    {
     "name": "stdout",
     "output_type": "stream",
     "text": [
      "+--------------------+-------------------+-------------+\n",
      "|          hotel_name|       Checkin_Date|discount_code|\n",
      "+--------------------+-------------------+-------------+\n",
      "|Newark Liberty In...|2015-11-11 00:00:00|            1|\n",
      "|Newark Liberty In...|2015-11-11 00:00:00|            2|\n",
      "|Newark Liberty In...|2015-11-11 00:00:00|            3|\n",
      "|Newark Liberty In...|2015-11-11 00:00:00|            4|\n",
      "|Newark Liberty In...|2015-10-14 00:00:00|            1|\n",
      "+--------------------+-------------------+-------------+\n",
      "only showing top 5 rows\n",
      "\n"
     ]
    },
    {
     "data": {
      "text/plain": [
       "24000"
      ]
     },
     "execution_count": 12,
     "metadata": {},
     "output_type": "execute_result"
    }
   ],
   "source": [
    "joint_with_price_codes_df.show(5)\n",
    "joint_with_price_codes_df.count()"
   ]
  },
  {
   "cell_type": "code",
   "execution_count": 13,
   "metadata": {},
   "outputs": [],
   "source": [
    "# Filter (top hotels filtered) base df to leave us with only listings\n",
    "# of same combinations with minimum price\n",
    "grouped_df = hotel_rows_for_top_dates.groupBy(\"Hotel_Name\", \"Checkin_Date\", \"Discount_Code\").min(\"Discount_Price\")"
   ]
  },
  {
   "cell_type": "code",
   "execution_count": null,
   "metadata": {},
   "outputs": [],
   "source": [
    "grouped_renamed_df = grouped_df.withColumnRenamed(\"Hotel_Name\", \"hotel_name\").withColumnRenamed(\"Checkin_Date\", \"checkin_date\").withColumnRenamed(\"Discount_Code\", \"discount_code\").withColumnRenamed(\"min(Discount_Price)\",\"discount_price\")"
   ]
  },
  {
   "cell_type": "code",
   "execution_count": null,
   "metadata": {},
   "outputs": [],
   "source": [
    "grouped_renamed_df.show(20)"
   ]
  },
  {
   "cell_type": "code",
   "execution_count": null,
   "metadata": {},
   "outputs": [],
   "source": [
    "final_columns_df = top_checkin_dates_df.select(\"checkin_date\").crossJoin(discount_codes_df.select(\"discount_code\"))"
   ]
  },
  {
   "cell_type": "code",
   "execution_count": null,
   "metadata": {},
   "outputs": [],
   "source": [
    "final_columns_df.show(2)\n",
    "final_columns_df.count()"
   ]
  },
  {
   "cell_type": "code",
   "execution_count": null,
   "metadata": {
    "scrolled": false
   },
   "outputs": [],
   "source": [
    "from pyspark.sql.window import Window\n",
    "from pyspark.sql.functions import row_number\n",
    "w = Window().orderBy(\"checkin_date\", \"discount_code\")\n",
    "indexed_final_columns_df = final_columns_df.select(row_number().over(w).alias(\"ID\"), col(\"*\"))\n",
    "\n",
    "indexed_final_columns_df.show(180)"
   ]
  },
  {
   "cell_type": "code",
   "execution_count": null,
   "metadata": {},
   "outputs": [],
   "source": [
    "w = Window().orderBy(\"hotel_name\")\n",
    "indexed_hotels_df = only_hotel_names_df.select(row_number().over(w).alias(\"ID\"), col(\"*\"))\n",
    "\n",
    "indexed_hotels_df.show(170)"
   ]
  },
  {
   "cell_type": "code",
   "execution_count": null,
   "metadata": {},
   "outputs": [],
   "source": [
    "def initMat(x,y):\n",
    "        return -1\n",
    "finalMat = [[initMat(x,y) for x in range(161)] for y in range(150)]"
   ]
  },
  {
   "cell_type": "code",
   "execution_count": null,
   "metadata": {},
   "outputs": [],
   "source": [
    "grouped_renamed_df.count()"
   ]
  },
  {
   "cell_type": "code",
   "execution_count": null,
   "metadata": {},
   "outputs": [],
   "source": [
    "hotel_dict = {}\n",
    "for row in indexed_hotels_df.collect():\n",
    "    hotel_dict[row.hotel_name] = row.ID"
   ]
  },
  {
   "cell_type": "code",
   "execution_count": null,
   "metadata": {},
   "outputs": [],
   "source": [
    "combinations_dict = {}\n",
    "for row in indexed_final_columns_df.collect():\n",
    "    combinations_dict[row.checkin_date, row.discount_code] = row.ID"
   ]
  },
  {
   "cell_type": "code",
   "execution_count": null,
   "metadata": {},
   "outputs": [],
   "source": [
    "for row in grouped_renamed_df.collect():\n",
    "    column_to_update = combinations_dict[row.checkin_date, row.discount_code] - 1\n",
    "    row_to_update = hotel_dict[row.hotel_name] - 1\n",
    "    print(row_to_update,column_to_update)\n",
    "    finalMat[row_to_update][column_to_update] = row.discount_price"
   ]
  },
  {
   "cell_type": "code",
   "execution_count": null,
   "metadata": {},
   "outputs": [],
   "source": [
    "for line in indexed_hotels_df.collect():\n",
    "    finalMat[line.ID - 1][160] = line.hotel_name"
   ]
  },
  {
   "cell_type": "code",
   "execution_count": null,
   "metadata": {},
   "outputs": [],
   "source": [
    "mat_df = spark.createDataFrame(finalMat)"
   ]
  },
  {
   "cell_type": "code",
   "execution_count": null,
   "metadata": {},
   "outputs": [],
   "source": [
    "mat_df.show()"
   ]
  },
  {
   "cell_type": "code",
   "execution_count": null,
   "metadata": {},
   "outputs": [],
   "source": [
    "for row in range(0,150):\n",
    "    curr_row_max_value = 0\n",
    "    curr_row_min_value = 100000\n",
    "    for col in range(0,160):\n",
    "        if ((finalMat[row][col] > -1) & (finalMat[row][col] > curr_row_max_value)):\n",
    "            curr_row_max_value = finalMat[row][col]\n",
    "        if ((finalMat[row][col] > -1) & (finalMat[row][col] < curr_row_min_value)):\n",
    "            curr_row_min_value = finalMat[row][col]\n",
    "    for col in range(0,160):\n",
    "        if (finalMat[row][col] > -1):\n",
    "            if (curr_row_min_value < curr_row_max_value):\n",
    "                finalMat[row][col] = 100 * (finalMat[row][col] - curr_row_min_value) / (curr_row_max_value - curr_row_min_value)\n",
    "            else:\n",
    "                finalMat[row][col] = 0"
   ]
  },
  {
   "cell_type": "code",
   "execution_count": null,
   "metadata": {},
   "outputs": [],
   "source": [
    "for row in range(0,150):\n",
    "    for col in range(0,160):\n",
    "        print(finalMat[row][col])"
   ]
  },
  {
   "cell_type": "code",
   "execution_count": null,
   "metadata": {},
   "outputs": [],
   "source": [
    "normalized_mat_df = spark.sparkContext.parallelize(finalMat).toDF()"
   ]
  },
  {
   "cell_type": "code",
   "execution_count": null,
   "metadata": {},
   "outputs": [],
   "source": [
    "normalized_mat_df = spark.createDataFrame(finalMat)"
   ]
  },
  {
   "cell_type": "code",
   "execution_count": null,
   "metadata": {},
   "outputs": [],
   "source": [
    "normalized_mat_df.show()"
   ]
  },
  {
   "cell_type": "code",
   "execution_count": null,
   "metadata": {},
   "outputs": [],
   "source": [
    "# Export to file\n",
    "mat_df.toPandas().to_csv('yarden_task4.csv', index=False, header=False)"
   ]
  }
 ],
 "metadata": {
  "kernelspec": {
   "display_name": "Python 3",
   "language": "python",
   "name": "python3"
  },
  "language_info": {
   "codemirror_mode": {
    "name": "ipython",
    "version": 3
   },
   "file_extension": ".py",
   "mimetype": "text/x-python",
   "name": "python",
   "nbconvert_exporter": "python",
   "pygments_lexer": "ipython3",
   "version": "3.6.4"
  }
 },
 "nbformat": 4,
 "nbformat_minor": 2
}
