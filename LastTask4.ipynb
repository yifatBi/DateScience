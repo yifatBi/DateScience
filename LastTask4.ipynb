{
 "cells": [
  {
   "cell_type": "code",
   "execution_count": 1,
   "metadata": {},
   "outputs": [],
   "source": [
    "from pyspark.sql import SparkSession\n",
    "spark = SparkSession.builder.appName('Assigment4').getOrCreate()"
   ]
  },
  {
   "cell_type": "code",
   "execution_count": 2,
   "metadata": {},
   "outputs": [],
   "source": [
    "# Load the new hotels file\n",
    "base_df = spark.read.csv('Hotels_data_Changed.csv',inferSchema=True,header=True)"
   ]
  },
  {
   "cell_type": "code",
   "execution_count": 4,
   "metadata": {},
   "outputs": [
    {
     "name": "stdout",
     "output_type": "stream",
     "text": [
      "+-----------+-------------------+-------------------+----+--------------+--------------+-------------+---------------+--------------------+-----------+-------+------------+-------------+-------+\n",
      "|Snapshot ID|      Snapshot Date|       Checkin Date|Days|Original Price|Discount Price|Discount Code|Available Rooms|          Hotel Name|Hotel Stars|WeekDay|DiscountDiff| DiscountPerc|DayDiff|\n",
      "+-----------+-------------------+-------------------+----+--------------+--------------+-------------+---------------+--------------------+-----------+-------+------------+-------------+-------+\n",
      "|          1|2015-07-17 00:00:00|2015-08-12 00:00:00|   5|          1178|          1040|            1|              6|Best Western Plus...|          3|    Wed|         138| 11.714770798|     26|\n",
      "|          1|2015-07-17 00:00:00|2015-08-19 00:00:00|   5|          1113|           982|            1|              8|Best Western Plus...|          3|    Wed|         131|11.7699910153|     33|\n",
      "+-----------+-------------------+-------------------+----+--------------+--------------+-------------+---------------+--------------------+-----------+-------+------------+-------------+-------+\n",
      "only showing top 2 rows\n",
      "\n"
     ]
    }
   ],
   "source": [
    "base_df.show(2)"
   ]
  },
  {
   "cell_type": "code",
   "execution_count": 5,
   "metadata": {},
   "outputs": [
    {
     "data": {
      "text/plain": [
       "[Row(Hotel Name='Newark Liberty International Airport Marriott', count=5346),\n",
       " Row(Hotel Name='Hilton Garden Inn Times Square', count=4892),\n",
       " Row(Hotel Name='Residence Inn Newark Elizabeth Liberty International Airport', count=4314),\n",
       " Row(Hotel Name='Westin New York at Times Square', count=3792),\n",
       " Row(Hotel Name='Loews Regency New York Hotel', count=3617),\n",
       " Row(Hotel Name='Viceroy New York', count=3565),\n",
       " Row(Hotel Name='Four Seasons Hotel New York', count=3243),\n",
       " Row(Hotel Name='Langham Place New York Fifth Avenue', count=3203),\n",
       " Row(Hotel Name='The Carlyle A Rosewood Hotel', count=3078),\n",
       " Row(Hotel Name='DoubleTree by Hilton Metropolitan - New York City', count=2866),\n",
       " Row(Hotel Name='Magnuson Convention Center Hotel', count=2862),\n",
       " Row(Hotel Name='Hilton Garden Inn New York West 35th Street', count=2822),\n",
       " Row(Hotel Name='Hilton Garden Inn New York-Times Square Central', count=2772),\n",
       " Row(Hotel Name='Conrad New York', count=2677),\n",
       " Row(Hotel Name='Wyndham Garden Brooklyn Sunset Park', count=2599),\n",
       " Row(Hotel Name='Hilton Newark Airport', count=2524),\n",
       " Row(Hotel Name='Omni Berkshire Place', count=2358),\n",
       " Row(Hotel Name='Hilton Times Square', count=2273),\n",
       " Row(Hotel Name='Park Hyatt New York', count=2226),\n",
       " Row(Hotel Name='Homewood Suites by Hilton NY Midtown Manhattan Times Square', count=2211),\n",
       " Row(Hotel Name='Grand Hyatt New York', count=2165),\n",
       " Row(Hotel Name='The Plaza Hotel', count=2149),\n",
       " Row(Hotel Name='Quality Inn Woodside', count=2140),\n",
       " Row(Hotel Name='Hyatt Union Square New York', count=2114),\n",
       " Row(Hotel Name='Le Parker Meridien New York', count=2109),\n",
       " Row(Hotel Name='The New York EDITION', count=2073),\n",
       " Row(Hotel Name='W New York - Union Square', count=2025),\n",
       " Row(Hotel Name='Renaissance Newark Airport Hotel', count=1951),\n",
       " Row(Hotel Name='Hampton Inn New York - 35th Street - Empire State Building', count=1930),\n",
       " Row(Hotel Name='The Lexington New York City Autograph Collection', count=1920),\n",
       " Row(Hotel Name='The Roosevelt Hotel New York City', count=1894),\n",
       " Row(Hotel Name='Hilton Garden Inn New York Midtown Park Ave', count=1855),\n",
       " Row(Hotel Name='McCarren Hotel & Pool', count=1835),\n",
       " Row(Hotel Name='Cassa Hotel 45th Street', count=1834),\n",
       " Row(Hotel Name='Hyatt Herald Square New York', count=1834),\n",
       " Row(Hotel Name='Martha Washington', count=1820),\n",
       " Row(Hotel Name='W New York Times Square', count=1710),\n",
       " Row(Hotel Name='Hyatt Place New York Midtown South', count=1700),\n",
       " Row(Hotel Name='DoubleTree by Hilton Hotel Newark Airport', count=1688),\n",
       " Row(Hotel Name='Hampton Inn Manhattan United Nations', count=1578),\n",
       " Row(Hotel Name='Millenium Hilton', count=1564),\n",
       " Row(Hotel Name='Hampton Inn Madison Square Garden Area Hotel', count=1563),\n",
       " Row(Hotel Name='The Towers of the Waldorf Astoria New York', count=1555),\n",
       " Row(Hotel Name='DoubleTree by Hilton New York City - Chelsea', count=1536),\n",
       " Row(Hotel Name='Smyth A Thompson Hotel', count=1536),\n",
       " Row(Hotel Name='DoubleTree by Hilton New York City - Financial District', count=1496),\n",
       " Row(Hotel Name='Hampton Inn Manhattan Soho', count=1462),\n",
       " Row(Hotel Name='Hilton Garden Inn New York Manhattan-Midtown East', count=1446),\n",
       " Row(Hotel Name='Hampton Inn Manhattan Downtown-Financial District', count=1421),\n",
       " Row(Hotel Name='Red Carpet Inn New York City', count=1412),\n",
       " Row(Hotel Name='Hampton Inn Manhattan Times Square Central', count=1381),\n",
       " Row(Hotel Name='Hilton Garden Inn New York Central Park South-Midtown West', count=1380),\n",
       " Row(Hotel Name='Andaz 5th Avenue - a concept by Hyatt', count=1338),\n",
       " Row(Hotel Name='Hilton Garden Inn New York Manhattan-Chelsea', count=1290),\n",
       " Row(Hotel Name='Gild Hall A Thompson Hotel', count=1282),\n",
       " Row(Hotel Name='Hilton Manhattan East', count=1247),\n",
       " Row(Hotel Name='Waldorf Astoria New York', count=1227),\n",
       " Row(Hotel Name='Sheraton New York Times Square Hotel', count=1223),\n",
       " Row(Hotel Name='Hampton Inn Manhattan-Seaport-Financial District', count=1209),\n",
       " Row(Hotel Name='Fairfield Inn by Marriott LaGuardia Airport Flushing', count=1197),\n",
       " Row(Hotel Name='W New York - Downtown', count=1116),\n",
       " Row(Hotel Name='Hilton New York Fashion District', count=1094),\n",
       " Row(Hotel Name='Hyatt Times Square New York', count=1072),\n",
       " Row(Hotel Name='Hampton Inn Manhattan Times Square South', count=1018),\n",
       " Row(Hotel Name='New York Marriott at the Brooklyn Bridge', count=1016),\n",
       " Row(Hotel Name='New York Marriott Downtown', count=1009),\n",
       " Row(Hotel Name='Hilton Garden Inn New York Long Island City', count=985),\n",
       " Row(Hotel Name='Manhattan NYC-an Affinia hotel', count=971),\n",
       " Row(Hotel Name='The Muse Hotel a Kimpton Hotel', count=926),\n",
       " Row(Hotel Name='New York Hilton Midtown', count=919),\n",
       " Row(Hotel Name='W New York', count=910),\n",
       " Row(Hotel Name='Andaz Wall Street - a concept by Hyatt', count=869),\n",
       " Row(Hotel Name='United Nations Apartment Hotel', count=861),\n",
       " Row(Hotel Name='The Westin New York Grand Central', count=832),\n",
       " Row(Hotel Name='The Peninsula New York', count=811),\n",
       " Row(Hotel Name='NOMO SOHO', count=810),\n",
       " Row(Hotel Name='Home2 Suites by Hilton NY Long Island City Manhattan View', count=810),\n",
       " Row(Hotel Name='The Standard East Village', count=737),\n",
       " Row(Hotel Name='DoubleTree Suites by Hilton New York City - Times Square', count=697),\n",
       " Row(Hotel Name='SpringHill Suites by Marriott Newark Liberty International', count=682),\n",
       " Row(Hotel Name='Eventi Hotel a Kimpton Hotel', count=617),\n",
       " Row(Hotel Name='Hampton Inn New York Chelsea', count=605),\n",
       " Row(Hotel Name='Comfort Inn Times Square South Area', count=553),\n",
       " Row(Hotel Name='The Pearl New York', count=545),\n",
       " Row(Hotel Name='DoubleTree by Hilton Hotel New York - Times Square South', count=525),\n",
       " Row(Hotel Name='The Chatwal a Luxury Collection Hotel New York City', count=501),\n",
       " Row(Hotel Name='Howard Johnson Inn Jamaica JFK Airport NYC', count=496),\n",
       " Row(Hotel Name='Hampton Inn & Suites Staten Island', count=494),\n",
       " Row(Hotel Name='Howard Johnson Flushing', count=484),\n",
       " Row(Hotel Name='Ramada Long Island City', count=466),\n",
       " Row(Hotel Name='SIXTY Lower East Side', count=464),\n",
       " Row(Hotel Name='Courtyard by Marriott New York Manhattan SoHo', count=463),\n",
       " Row(Hotel Name='Best Western Bayside Inn', count=421),\n",
       " Row(Hotel Name='Quality Inn Convention Center', count=413),\n",
       " Row(Hotel Name='Courtyard by Marriott New York Manhattan Times Square', count=412),\n",
       " Row(Hotel Name='Sheraton LaGuardia East Hotel', count=387),\n",
       " Row(Hotel Name='The Premier Hotel New York', count=385),\n",
       " Row(Hotel Name='Hampton Inn JFK Airport', count=382),\n",
       " Row(Hotel Name='Radisson Martinique on Broadway', count=380),\n",
       " Row(Hotel Name='GEM Hotel - Chelsea an Ascend Hotel Collection Member', count=369),\n",
       " Row(Hotel Name='Residence Inn by Marriott New York Manhattan Midtown East', count=347),\n",
       " Row(Hotel Name='The High Line Hotel', count=337),\n",
       " Row(Hotel Name='Holiday Inn New York JFK Airport Area', count=337),\n",
       " Row(Hotel Name='Courtyard by Marriott New York City Manhattan Fifth Avenue', count=334),\n",
       " Row(Hotel Name='The SunBright', count=325),\n",
       " Row(Hotel Name='New York Marriott East Side', count=325),\n",
       " Row(Hotel Name='Hampton Inn Times Square North', count=318),\n",
       " Row(Hotel Name='Shelburne NYC-an Affinia hotel', count=317),\n",
       " Row(Hotel Name='The Lombardy', count=305),\n",
       " Row(Hotel Name='Wyndham Garden - Manhattan Chelsea West', count=305),\n",
       " Row(Hotel Name='Wyndham Garden Long Island City Manhattan View', count=299),\n",
       " Row(Hotel Name='Best Western Plus Newark Airport West', count=292),\n",
       " Row(Hotel Name='Best Western Plus Arena Hotel', count=289),\n",
       " Row(Hotel Name='Bentley Hotel', count=288),\n",
       " Row(Hotel Name='ink48 hotel a Kimpton Hotel', count=275),\n",
       " Row(Hotel Name='Courtyard by Marriott New York Manhattan Upper East Side', count=274),\n",
       " Row(Hotel Name='Howard Johnson Bronx Near Stadium', count=273),\n",
       " Row(Hotel Name='Embassy Suites Newark Airport', count=269),\n",
       " Row(Hotel Name='Hotel 48LEX New York', count=268),\n",
       " Row(Hotel Name='Hilton Garden Inn Tribeca', count=267),\n",
       " Row(Hotel Name='Residence Inn New York The Bronx At Metro Center Atrium', count=260),\n",
       " Row(Hotel Name='Hyatt Place Flushing LaGuardia Airport', count=256),\n",
       " Row(Hotel Name='San Carlos Hotel', count=254),\n",
       " Row(Hotel Name='The Roger', count=253),\n",
       " Row(Hotel Name='Wyndham New Yorker', count=242),\n",
       " Row(Hotel Name='Roxy Hotel Tribeca (formerly the Tribeca Grand Hotel)', count=240),\n",
       " Row(Hotel Name='Courtyard Newark Elizabeth', count=234),\n",
       " Row(Hotel Name='The St. Regis New York', count=233),\n",
       " Row(Hotel Name='Best Western Bowery Hanbee Hotel', count=233),\n",
       " Row(Hotel Name='Crowne Plaza Times Square Manhattan', count=231),\n",
       " Row(Hotel Name='Hudson New York Central Park', count=228),\n",
       " Row(Hotel Name='Hampton Inn New York - LaGuardia Airport', count=225),\n",
       " Row(Hotel Name='Wyndham Garden Chinatown', count=222),\n",
       " Row(Hotel Name='Courtyard New York Manhattan Times Square West', count=214),\n",
       " Row(Hotel Name='The Kitano New York', count=211),\n",
       " Row(Hotel Name='Aloft Harlem', count=210),\n",
       " Row(Hotel Name='Super 8 Brooklyn   Park Slope Hotel', count=209),\n",
       " Row(Hotel Name='Baccarat Hotel and Residences New York', count=204),\n",
       " Row(Hotel Name='The Mark', count=201),\n",
       " Row(Hotel Name='Chelsea Inn', count=199),\n",
       " Row(Hotel Name='The Out NYC', count=199),\n",
       " Row(Hotel Name='Courtyard by Marriott New York Manhattan   Central Park', count=197),\n",
       " Row(Hotel Name='Blakely New York', count=194),\n",
       " Row(Hotel Name='Hilton New York JFK Airport', count=194),\n",
       " Row(Hotel Name='Days Inn Bronx Near Stadium', count=193),\n",
       " Row(Hotel Name='The Benjamin', count=189),\n",
       " Row(Hotel Name='The Shoreham Hotel', count=188),\n",
       " Row(Hotel Name='Jet Luxury at the Trump SoHo', count=187),\n",
       " Row(Hotel Name='TRYP By Wyndham Times Square South', count=180),\n",
       " Row(Hotel Name='Dumont NYC-an Affinia hotel', count=180)]"
      ]
     },
     "execution_count": 5,
     "metadata": {},
     "output_type": "execute_result"
    }
   ],
   "source": [
    "from pyspark.sql.functions import col\n",
    "\n",
    "# Get 150 Hotels that have the most rows in data\n",
    "tophotels = base_df.groupBy(\"Hotel Name\").count().sort(col(\"count\").desc()).head(150)\n",
    "tophotels"
   ]
  },
  {
   "cell_type": "code",
   "execution_count": 18,
   "metadata": {
    "scrolled": true
   },
   "outputs": [
    {
     "name": "stdout",
     "output_type": "stream",
     "text": [
      "+-----------+-------------------+-------------------+----+--------------+--------------+-------------+---------------+-------------+-----------+-------+------------+-------------+-------+\n",
      "|Snapshot ID|      Snapshot Date|       Checkin Date|Days|Original Price|Discount Price|Discount Code|Available Rooms|   Hotel_Name|Hotel Stars|WeekDay|DiscountDiff| DiscountPerc|DayDiff|\n",
      "+-----------+-------------------+-------------------+----+--------------+--------------+-------------+---------------+-------------+-----------+-------+------------+-------------+-------+\n",
      "|        101|2015-08-16 00:00:00|2015-08-17 00:00:00|   5|          2055|          1989|            1|              1|Bentley Hotel|          4|    Mon|          66|3.21167883212|      1|\n",
      "|        101|2015-08-16 00:00:00|2015-09-06 00:00:00|   5|          1409|          1348|            2|              3|Bentley Hotel|          4|    Sun|          61|4.32931156849|     21|\n",
      "+-----------+-------------------+-------------------+----+--------------+--------------+-------------+---------------+-------------+-----------+-------+------------+-------------+-------+\n",
      "only showing top 2 rows\n",
      "\n"
     ]
    }
   ],
   "source": [
    "# convert the name + count list to dataframe and create a view for it\n",
    "top_hotel_names_df = spark.sparkContext.parallelize(tophotels).toDF(['hotel_name','COUNT'])\n",
    "top_hotel_names_df.createOrReplaceTempView(\"topHotelNames\")\n",
    "\n",
    "# Change a column name to handle in query\n",
    "base_df.withColumnRenamed('Hotel Name','Hotel_Name').createOrReplaceTempView(\"base_df\")\n",
    "\n",
    "# Reduced the rows listed to only the ones that are among top 150 names\n",
    "top_hotels_filtered_base_df = spark.sql(\"SELECT * FROM base_df WHERE Hotel_Name IN (SELECT hotel_name FROM topHotelNames)\")\n",
    "top_hotels_filtered_base_df.show(2)"
   ]
  },
  {
   "cell_type": "code",
   "execution_count": 10,
   "metadata": {},
   "outputs": [
    {
     "name": "stdout",
     "output_type": "stream",
     "text": [
      "+-------------------+-----+\n",
      "|       Checkin Date|count|\n",
      "+-------------------+-----+\n",
      "|2015-11-11 00:00:00| 2302|\n",
      "|2015-10-14 00:00:00| 1887|\n",
      "|2015-11-04 00:00:00| 1885|\n",
      "|2015-08-19 00:00:00| 1883|\n",
      "|2015-10-28 00:00:00| 1861|\n",
      "|2015-10-21 00:00:00| 1817|\n",
      "|2015-11-06 00:00:00| 1808|\n",
      "|2015-08-12 00:00:00| 1765|\n",
      "|2015-11-05 00:00:00| 1684|\n",
      "|2015-10-22 00:00:00| 1662|\n",
      "|2015-11-12 00:00:00| 1649|\n",
      "|2015-09-10 00:00:00| 1623|\n",
      "|2015-10-29 00:00:00| 1623|\n",
      "|2015-09-09 00:00:00| 1616|\n",
      "|2015-11-18 00:00:00| 1582|\n",
      "|2015-08-26 00:00:00| 1559|\n",
      "|2015-11-10 00:00:00| 1548|\n",
      "|2015-11-13 00:00:00| 1547|\n",
      "|2015-10-15 00:00:00| 1473|\n",
      "|2015-11-21 00:00:00| 1469|\n",
      "+-------------------+-----+\n",
      "only showing top 20 rows\n",
      "\n"
     ]
    }
   ],
   "source": [
    "# Get 40 Checkin dates that have the most rows in top 150 hotels data\n",
    "top_checkin_dates = top_hotels_filtered_base_df.groupBy(\"Checkin Date\").count().sort(col(\"count\").desc()).head(40)\n",
    "\n",
    "# convert the checkin date + count list to dataframe and create a view for it\n",
    "top_checkin_dates_df = spark.sparkContext.parallelize(top_checkin_dates).toDF()\n",
    "top_checkin_dates_df.show()"
   ]
  },
  {
   "cell_type": "code",
   "execution_count": 14,
   "metadata": {},
   "outputs": [
    {
     "name": "stdout",
     "output_type": "stream",
     "text": [
      "+-------------------+-----+\n",
      "|       Checkin_Date|count|\n",
      "+-------------------+-----+\n",
      "|2015-11-11 00:00:00| 2302|\n",
      "|2015-10-14 00:00:00| 1887|\n",
      "|2015-11-04 00:00:00| 1885|\n",
      "+-------------------+-----+\n",
      "only showing top 3 rows\n",
      "\n"
     ]
    }
   ],
   "source": [
    "# Change a column name to handle in query\n",
    "top_checkin_dates_df = top_checkin_dates_df.withColumnRenamed('Checkin Date','Checkin_Date')\n",
    "top_checkin_dates_df.show(3)"
   ]
  },
  {
   "cell_type": "code",
   "execution_count": 11,
   "metadata": {},
   "outputs": [
    {
     "name": "stdout",
     "output_type": "stream",
     "text": [
      "+-----------+-------------------+-------------------+----+--------------+--------------+-------------+---------------+--------------------+-----------+-------+------------+-------------+-------+\n",
      "|Snapshot ID|      Snapshot Date|       Checkin_Date|Days|Original Price|Discount Price|Discount Code|Available Rooms|          Hotel_Name|Hotel Stars|WeekDay|DiscountDiff| DiscountPerc|DayDiff|\n",
      "+-----------+-------------------+-------------------+----+--------------+--------------+-------------+---------------+--------------------+-----------+-------+------------+-------------+-------+\n",
      "|        472|2015-10-23 00:00:00|2015-11-26 00:00:00|   5|          1925|          1845|            2|             71|Westin New York a...|          4|    Thu|          80|4.15584415584|     34|\n",
      "|        472|2015-10-23 00:00:00|2015-11-26 00:00:00|   5|          1925|          1696|            3|             71|Westin New York a...|          4|    Thu|         229|11.8961038961|     34|\n",
      "|        472|2015-10-23 00:00:00|2015-11-26 00:00:00|   5|          1925|          1646|            4|             71|Westin New York a...|          4|    Thu|         279|14.4935064935|     34|\n",
      "|        474|2015-10-24 00:00:00|2015-11-26 00:00:00|   5|          1925|          1845|            2|             72|Westin New York a...|          4|    Thu|          80|4.15584415584|     33|\n",
      "|        474|2015-10-24 00:00:00|2015-11-26 00:00:00|   5|          1925|          1696|            3|             72|Westin New York a...|          4|    Thu|         229|11.8961038961|     33|\n",
      "|        474|2015-10-24 00:00:00|2015-11-26 00:00:00|   5|          1925|          1646|            4|             72|Westin New York a...|          4|    Thu|         279|14.4935064935|     33|\n",
      "|        477|2015-10-25 00:00:00|2015-11-26 00:00:00|   5|          1925|          1845|            2|             72|Westin New York a...|          4|    Thu|          80|4.15584415584|     32|\n",
      "|        477|2015-10-25 00:00:00|2015-11-26 00:00:00|   5|          1925|          1696|            3|             72|Westin New York a...|          4|    Thu|         229|11.8961038961|     32|\n",
      "|        477|2015-10-25 00:00:00|2015-11-26 00:00:00|   5|          1925|          1646|            4|             72|Westin New York a...|          4|    Thu|         279|14.4935064935|     32|\n",
      "|        478|2015-10-26 00:00:00|2015-11-26 00:00:00|   5|          1925|          1845|            2|             72|Westin New York a...|          4|    Thu|          80|4.15584415584|     31|\n",
      "|        478|2015-10-26 00:00:00|2015-11-26 00:00:00|   5|          1925|          1696|            3|             72|Westin New York a...|          4|    Thu|         229|11.8961038961|     31|\n",
      "|        478|2015-10-26 00:00:00|2015-11-26 00:00:00|   5|          1925|          1646|            4|             72|Westin New York a...|          4|    Thu|         279|14.4935064935|     31|\n",
      "|        481|2015-10-27 00:00:00|2015-11-26 00:00:00|   5|          1925|          1845|            2|             69|Westin New York a...|          4|    Thu|          80|4.15584415584|     30|\n",
      "|        481|2015-10-27 00:00:00|2015-11-26 00:00:00|   5|          1925|          1696|            3|             69|Westin New York a...|          4|    Thu|         229|11.8961038961|     30|\n",
      "|        481|2015-10-27 00:00:00|2015-11-26 00:00:00|   5|          1925|          1646|            4|             69|Westin New York a...|          4|    Thu|         279|14.4935064935|     30|\n",
      "|        482|2015-10-28 00:00:00|2015-11-26 00:00:00|   5|          1855|          1775|            2|             71|Westin New York a...|          4|    Thu|          80|4.31266846361|     29|\n",
      "|        482|2015-10-28 00:00:00|2015-11-26 00:00:00|   5|          1855|          1626|            3|             71|Westin New York a...|          4|    Thu|         229|12.3450134771|     29|\n",
      "|        482|2015-10-28 00:00:00|2015-11-26 00:00:00|   5|          1855|          1576|            4|             71|Westin New York a...|          4|    Thu|         279|15.0404312668|     29|\n",
      "|        485|2015-10-29 00:00:00|2015-11-26 00:00:00|   5|          1855|          1775|            2|             71|Westin New York a...|          4|    Thu|          80|4.31266846361|     28|\n",
      "|        485|2015-10-29 00:00:00|2015-11-26 00:00:00|   5|          1855|          1626|            3|             71|Westin New York a...|          4|    Thu|         229|12.3450134771|     28|\n",
      "+-----------+-------------------+-------------------+----+--------------+--------------+-------------+---------------+--------------------+-----------+-------+------------+-------------+-------+\n",
      "only showing top 20 rows\n",
      "\n"
     ]
    }
   ],
   "source": [
    "# CHECK IF CELL IS NEEDED\n",
    "\n",
    "top_checkin_dates_df.createOrReplaceTempView(\"topCheckinDates\")\n",
    "\n",
    "# Change a column name to handle in query\n",
    "top_hotels_filtered_base_df.withColumnRenamed('Checkin Date','Checkin_Date').createOrReplaceTempView(\"top_hotels_filtered_base\")\n",
    "\n",
    "# Reduced the rows listed to only the ones that are among top 40 checkin dates\n",
    "hotel_rows_for_top_dates = spark.sql(\"SELECT * FROM top_hotels_filtered_base WHERE Checkin_Date IN (SELECT Checkin_Date FROM topCheckinDates)\")\n",
    "\n",
    "hotel_rows_for_top_dates.show()"
   ]
  },
  {
   "cell_type": "code",
   "execution_count": 19,
   "metadata": {},
   "outputs": [],
   "source": [
    "# Creates dataframe for combination of hotels with checkin dates\n",
    "only_hotel_names_df = top_hotel_names_df.drop(\"COUNT\")\n",
    "only_checkin_dates_df = top_checkin_dates_df.drop(\"COUNT\")\n",
    "joint_df = only_hotel_names_df.crossJoin(only_checkin_dates_df)"
   ]
  },
  {
   "cell_type": "code",
   "execution_count": 20,
   "metadata": {},
   "outputs": [
    {
     "name": "stdout",
     "output_type": "stream",
     "text": [
      "+--------------------+-------------------+\n",
      "|          hotel_name|       Checkin_Date|\n",
      "+--------------------+-------------------+\n",
      "|Newark Liberty In...|2015-11-11 00:00:00|\n",
      "|Newark Liberty In...|2015-10-14 00:00:00|\n",
      "+--------------------+-------------------+\n",
      "only showing top 2 rows\n",
      "\n"
     ]
    }
   ],
   "source": [
    "joint_df.show(2)"
   ]
  },
  {
   "cell_type": "code",
   "execution_count": 21,
   "metadata": {},
   "outputs": [],
   "source": [
    "# Creates dataframe for combination of hotels with checkin dates and discount codes\n",
    "discount_codes_df = spark.range(1,5).withColumnRenamed(\"id\",\"discount_code\")\n",
    "joint_with_price_codes_df = joint_df.crossJoin(discount_codes_df)"
   ]
  },
  {
   "cell_type": "code",
   "execution_count": 23,
   "metadata": {},
   "outputs": [
    {
     "name": "stdout",
     "output_type": "stream",
     "text": [
      "+--------------------+-------------------+-------------+\n",
      "|          hotel_name|       Checkin_Date|discount_code|\n",
      "+--------------------+-------------------+-------------+\n",
      "|Newark Liberty In...|2015-11-11 00:00:00|            1|\n",
      "|Newark Liberty In...|2015-11-11 00:00:00|            2|\n",
      "|Newark Liberty In...|2015-11-11 00:00:00|            3|\n",
      "|Newark Liberty In...|2015-11-11 00:00:00|            4|\n",
      "|Newark Liberty In...|2015-10-14 00:00:00|            1|\n",
      "+--------------------+-------------------+-------------+\n",
      "only showing top 5 rows\n",
      "\n"
     ]
    },
    {
     "data": {
      "text/plain": [
       "24000"
      ]
     },
     "execution_count": 23,
     "metadata": {},
     "output_type": "execute_result"
    }
   ],
   "source": [
    "joint_with_price_codes_df.show(5)\n",
    "joint_with_price_codes_df.count()"
   ]
  },
  {
   "cell_type": "code",
   "execution_count": 30,
   "metadata": {},
   "outputs": [],
   "source": [
    "# Filter (top hotels filtered) base df to leave us with only listings\n",
    "# of same combinations with minimum price\n",
    "grouped_df = top_hotels_filtered_base_df.groupBy(\"Hotel_Name\", \"Checkin Date\", \"Discount Code\").min(\"Discount Price\")\n",
    "grouped_renamed_df = grouped_df.withColumnRenamed(\"Hotel_Name\", \"hotel_name\").withColumnRenamed(\"Checkin Date\", \"checkin_date\").withColumnRenamed(\"Discount Code\", \"discount_code\").withColumnRenamed(\"min(Discount Price)\",\"discount_price\")"
   ]
  },
  {
   "cell_type": "code",
   "execution_count": 32,
   "metadata": {},
   "outputs": [
    {
     "name": "stdout",
     "output_type": "stream",
     "text": [
      "+--------------------+-------------------+-------------+--------------+\n",
      "|          hotel_name|       checkin_date|discount_code|discount_price|\n",
      "+--------------------+-------------------+-------------+--------------+\n",
      "|Westin New York a...|2015-08-22 00:00:00|            3|          1265|\n",
      "|Westin New York a...|2015-09-11 00:00:00|            3|          1759|\n",
      "+--------------------+-------------------+-------------+--------------+\n",
      "only showing top 2 rows\n",
      "\n"
     ]
    }
   ],
   "source": [
    "grouped_renamed_df.show(2)"
   ]
  },
  {
   "cell_type": "code",
   "execution_count": 35,
   "metadata": {},
   "outputs": [],
   "source": [
    "final_columns_df = top_checkin_dates_df.select(\"checkin_date\").crossJoin(discount_codes_df.select(\"discount_code\"))"
   ]
  },
  {
   "cell_type": "code",
   "execution_count": 37,
   "metadata": {},
   "outputs": [
    {
     "name": "stdout",
     "output_type": "stream",
     "text": [
      "+-------------------+-------------+\n",
      "|       checkin_date|discount_code|\n",
      "+-------------------+-------------+\n",
      "|2015-11-11 00:00:00|            1|\n",
      "|2015-11-11 00:00:00|            2|\n",
      "+-------------------+-------------+\n",
      "only showing top 2 rows\n",
      "\n"
     ]
    },
    {
     "data": {
      "text/plain": [
       "160"
      ]
     },
     "execution_count": 37,
     "metadata": {},
     "output_type": "execute_result"
    }
   ],
   "source": [
    "final_columns_df.show(2)\n",
    "final_columns_df.count()"
   ]
  },
  {
   "cell_type": "code",
   "execution_count": 41,
   "metadata": {
    "scrolled": false
   },
   "outputs": [
    {
     "name": "stdout",
     "output_type": "stream",
     "text": [
      "+---+-------------------+-------------+\n",
      "| ID|       checkin_date|discount_code|\n",
      "+---+-------------------+-------------+\n",
      "|  1|2015-08-12 00:00:00|            1|\n",
      "|  2|2015-08-12 00:00:00|            2|\n",
      "|  3|2015-08-12 00:00:00|            3|\n",
      "|  4|2015-08-12 00:00:00|            4|\n",
      "|  5|2015-08-13 00:00:00|            1|\n",
      "|  6|2015-08-13 00:00:00|            2|\n",
      "|  7|2015-08-13 00:00:00|            3|\n",
      "|  8|2015-08-13 00:00:00|            4|\n",
      "|  9|2015-08-19 00:00:00|            1|\n",
      "| 10|2015-08-19 00:00:00|            2|\n",
      "| 11|2015-08-19 00:00:00|            3|\n",
      "| 12|2015-08-19 00:00:00|            4|\n",
      "| 13|2015-08-26 00:00:00|            1|\n",
      "| 14|2015-08-26 00:00:00|            2|\n",
      "| 15|2015-08-26 00:00:00|            3|\n",
      "| 16|2015-08-26 00:00:00|            4|\n",
      "| 17|2015-08-27 00:00:00|            1|\n",
      "| 18|2015-08-27 00:00:00|            2|\n",
      "| 19|2015-08-27 00:00:00|            3|\n",
      "| 20|2015-08-27 00:00:00|            4|\n",
      "| 21|2015-08-28 00:00:00|            1|\n",
      "| 22|2015-08-28 00:00:00|            2|\n",
      "| 23|2015-08-28 00:00:00|            3|\n",
      "| 24|2015-08-28 00:00:00|            4|\n",
      "| 25|2015-09-09 00:00:00|            1|\n",
      "| 26|2015-09-09 00:00:00|            2|\n",
      "| 27|2015-09-09 00:00:00|            3|\n",
      "| 28|2015-09-09 00:00:00|            4|\n",
      "| 29|2015-09-10 00:00:00|            1|\n",
      "| 30|2015-09-10 00:00:00|            2|\n",
      "| 31|2015-09-10 00:00:00|            3|\n",
      "| 32|2015-09-10 00:00:00|            4|\n",
      "| 33|2015-09-11 00:00:00|            1|\n",
      "| 34|2015-09-11 00:00:00|            2|\n",
      "| 35|2015-09-11 00:00:00|            3|\n",
      "| 36|2015-09-11 00:00:00|            4|\n",
      "| 37|2015-09-16 00:00:00|            1|\n",
      "| 38|2015-09-16 00:00:00|            2|\n",
      "| 39|2015-09-16 00:00:00|            3|\n",
      "| 40|2015-09-16 00:00:00|            4|\n",
      "| 41|2015-09-17 00:00:00|            1|\n",
      "| 42|2015-09-17 00:00:00|            2|\n",
      "| 43|2015-09-17 00:00:00|            3|\n",
      "| 44|2015-09-17 00:00:00|            4|\n",
      "| 45|2015-09-18 00:00:00|            1|\n",
      "| 46|2015-09-18 00:00:00|            2|\n",
      "| 47|2015-09-18 00:00:00|            3|\n",
      "| 48|2015-09-18 00:00:00|            4|\n",
      "| 49|2015-09-30 00:00:00|            1|\n",
      "| 50|2015-09-30 00:00:00|            2|\n",
      "| 51|2015-09-30 00:00:00|            3|\n",
      "| 52|2015-09-30 00:00:00|            4|\n",
      "| 53|2015-10-01 00:00:00|            1|\n",
      "| 54|2015-10-01 00:00:00|            2|\n",
      "| 55|2015-10-01 00:00:00|            3|\n",
      "| 56|2015-10-01 00:00:00|            4|\n",
      "| 57|2015-10-02 00:00:00|            1|\n",
      "| 58|2015-10-02 00:00:00|            2|\n",
      "| 59|2015-10-02 00:00:00|            3|\n",
      "| 60|2015-10-02 00:00:00|            4|\n",
      "| 61|2015-10-07 00:00:00|            1|\n",
      "| 62|2015-10-07 00:00:00|            2|\n",
      "| 63|2015-10-07 00:00:00|            3|\n",
      "| 64|2015-10-07 00:00:00|            4|\n",
      "| 65|2015-10-14 00:00:00|            1|\n",
      "| 66|2015-10-14 00:00:00|            2|\n",
      "| 67|2015-10-14 00:00:00|            3|\n",
      "| 68|2015-10-14 00:00:00|            4|\n",
      "| 69|2015-10-15 00:00:00|            1|\n",
      "| 70|2015-10-15 00:00:00|            2|\n",
      "| 71|2015-10-15 00:00:00|            3|\n",
      "| 72|2015-10-15 00:00:00|            4|\n",
      "| 73|2015-10-16 00:00:00|            1|\n",
      "| 74|2015-10-16 00:00:00|            2|\n",
      "| 75|2015-10-16 00:00:00|            3|\n",
      "| 76|2015-10-16 00:00:00|            4|\n",
      "| 77|2015-10-21 00:00:00|            1|\n",
      "| 78|2015-10-21 00:00:00|            2|\n",
      "| 79|2015-10-21 00:00:00|            3|\n",
      "| 80|2015-10-21 00:00:00|            4|\n",
      "| 81|2015-10-22 00:00:00|            1|\n",
      "| 82|2015-10-22 00:00:00|            2|\n",
      "| 83|2015-10-22 00:00:00|            3|\n",
      "| 84|2015-10-22 00:00:00|            4|\n",
      "| 85|2015-10-27 00:00:00|            1|\n",
      "| 86|2015-10-27 00:00:00|            2|\n",
      "| 87|2015-10-27 00:00:00|            3|\n",
      "| 88|2015-10-27 00:00:00|            4|\n",
      "| 89|2015-10-28 00:00:00|            1|\n",
      "| 90|2015-10-28 00:00:00|            2|\n",
      "| 91|2015-10-28 00:00:00|            3|\n",
      "| 92|2015-10-28 00:00:00|            4|\n",
      "| 93|2015-10-29 00:00:00|            1|\n",
      "| 94|2015-10-29 00:00:00|            2|\n",
      "| 95|2015-10-29 00:00:00|            3|\n",
      "| 96|2015-10-29 00:00:00|            4|\n",
      "| 97|2015-10-30 00:00:00|            1|\n",
      "| 98|2015-10-30 00:00:00|            2|\n",
      "| 99|2015-10-30 00:00:00|            3|\n",
      "|100|2015-10-30 00:00:00|            4|\n",
      "|101|2015-11-03 00:00:00|            1|\n",
      "|102|2015-11-03 00:00:00|            2|\n",
      "|103|2015-11-03 00:00:00|            3|\n",
      "|104|2015-11-03 00:00:00|            4|\n",
      "|105|2015-11-04 00:00:00|            1|\n",
      "|106|2015-11-04 00:00:00|            2|\n",
      "|107|2015-11-04 00:00:00|            3|\n",
      "|108|2015-11-04 00:00:00|            4|\n",
      "|109|2015-11-05 00:00:00|            1|\n",
      "|110|2015-11-05 00:00:00|            2|\n",
      "|111|2015-11-05 00:00:00|            3|\n",
      "|112|2015-11-05 00:00:00|            4|\n",
      "|113|2015-11-06 00:00:00|            1|\n",
      "|114|2015-11-06 00:00:00|            2|\n",
      "|115|2015-11-06 00:00:00|            3|\n",
      "|116|2015-11-06 00:00:00|            4|\n",
      "|117|2015-11-07 00:00:00|            1|\n",
      "|118|2015-11-07 00:00:00|            2|\n",
      "|119|2015-11-07 00:00:00|            3|\n",
      "|120|2015-11-07 00:00:00|            4|\n",
      "|121|2015-11-10 00:00:00|            1|\n",
      "|122|2015-11-10 00:00:00|            2|\n",
      "|123|2015-11-10 00:00:00|            3|\n",
      "|124|2015-11-10 00:00:00|            4|\n",
      "|125|2015-11-11 00:00:00|            1|\n",
      "|126|2015-11-11 00:00:00|            2|\n",
      "|127|2015-11-11 00:00:00|            3|\n",
      "|128|2015-11-11 00:00:00|            4|\n",
      "|129|2015-11-12 00:00:00|            1|\n",
      "|130|2015-11-12 00:00:00|            2|\n",
      "|131|2015-11-12 00:00:00|            3|\n",
      "|132|2015-11-12 00:00:00|            4|\n",
      "|133|2015-11-13 00:00:00|            1|\n",
      "|134|2015-11-13 00:00:00|            2|\n",
      "|135|2015-11-13 00:00:00|            3|\n",
      "|136|2015-11-13 00:00:00|            4|\n",
      "|137|2015-11-18 00:00:00|            1|\n",
      "|138|2015-11-18 00:00:00|            2|\n",
      "|139|2015-11-18 00:00:00|            3|\n",
      "|140|2015-11-18 00:00:00|            4|\n",
      "|141|2015-11-21 00:00:00|            1|\n",
      "|142|2015-11-21 00:00:00|            2|\n",
      "|143|2015-11-21 00:00:00|            3|\n",
      "|144|2015-11-21 00:00:00|            4|\n",
      "|145|2015-11-25 00:00:00|            1|\n",
      "|146|2015-11-25 00:00:00|            2|\n",
      "|147|2015-11-25 00:00:00|            3|\n",
      "|148|2015-11-25 00:00:00|            4|\n",
      "|149|2015-11-26 00:00:00|            1|\n",
      "|150|2015-11-26 00:00:00|            2|\n",
      "|151|2015-11-26 00:00:00|            3|\n",
      "|152|2015-11-26 00:00:00|            4|\n",
      "|153|2015-11-27 00:00:00|            1|\n",
      "|154|2015-11-27 00:00:00|            2|\n",
      "|155|2015-11-27 00:00:00|            3|\n",
      "|156|2015-11-27 00:00:00|            4|\n",
      "|157|2015-11-28 00:00:00|            1|\n",
      "|158|2015-11-28 00:00:00|            2|\n",
      "|159|2015-11-28 00:00:00|            3|\n",
      "|160|2015-11-28 00:00:00|            4|\n",
      "+---+-------------------+-------------+\n",
      "\n"
     ]
    }
   ],
   "source": [
    "from pyspark.sql.window import Window\n",
    "from pyspark.sql.functions import row_number\n",
    "w = Window().orderBy(\"checkin_date\", \"discount_code\")\n",
    "indexed_final_columns_df = final_columns_df.select(row_number().over(w).alias(\"ID\"), col(\"*\"))\n",
    "\n",
    "indexed_final_columns_df.show(180)"
   ]
  },
  {
   "cell_type": "code",
   "execution_count": 44,
   "metadata": {},
   "outputs": [
    {
     "name": "stdout",
     "output_type": "stream",
     "text": [
      "+---+--------------------+\n",
      "| ID|          hotel_name|\n",
      "+---+--------------------+\n",
      "|  1|        Aloft Harlem|\n",
      "|  2|Andaz 5th Avenue ...|\n",
      "|  3|Andaz Wall Street...|\n",
      "|  4|Baccarat Hotel an...|\n",
      "|  5|       Bentley Hotel|\n",
      "|  6|Best Western Bays...|\n",
      "|  7|Best Western Bowe...|\n",
      "|  8|Best Western Plus...|\n",
      "|  9|Best Western Plus...|\n",
      "| 10|    Blakely New York|\n",
      "| 11|Cassa Hotel 45th ...|\n",
      "| 12|         Chelsea Inn|\n",
      "| 13|Comfort Inn Times...|\n",
      "| 14|     Conrad New York|\n",
      "| 15|Courtyard New Yor...|\n",
      "| 16|Courtyard Newark ...|\n",
      "| 17|Courtyard by Marr...|\n",
      "| 18|Courtyard by Marr...|\n",
      "| 19|Courtyard by Marr...|\n",
      "| 20|Courtyard by Marr...|\n",
      "| 21|Courtyard by Marr...|\n",
      "| 22|Crowne Plaza Time...|\n",
      "| 23|Days Inn Bronx Ne...|\n",
      "| 24|DoubleTree Suites...|\n",
      "| 25|DoubleTree by Hil...|\n",
      "| 26|DoubleTree by Hil...|\n",
      "| 27|DoubleTree by Hil...|\n",
      "| 28|DoubleTree by Hil...|\n",
      "| 29|DoubleTree by Hil...|\n",
      "| 30|Dumont NYC-an Aff...|\n",
      "| 31|Embassy Suites Ne...|\n",
      "| 32|Eventi Hotel a Ki...|\n",
      "| 33|Fairfield Inn by ...|\n",
      "| 34|Four Seasons Hote...|\n",
      "| 35|GEM Hotel - Chels...|\n",
      "| 36|Gild Hall A Thomp...|\n",
      "| 37|Grand Hyatt New York|\n",
      "| 38|Hampton Inn & Sui...|\n",
      "| 39|Hampton Inn JFK A...|\n",
      "| 40|Hampton Inn Madis...|\n",
      "| 41|Hampton Inn Manha...|\n",
      "| 42|Hampton Inn Manha...|\n",
      "| 43|Hampton Inn Manha...|\n",
      "| 44|Hampton Inn Manha...|\n",
      "| 45|Hampton Inn Manha...|\n",
      "| 46|Hampton Inn Manha...|\n",
      "| 47|Hampton Inn New Y...|\n",
      "| 48|Hampton Inn New Y...|\n",
      "| 49|Hampton Inn New Y...|\n",
      "| 50|Hampton Inn Times...|\n",
      "| 51|Hilton Garden Inn...|\n",
      "| 52|Hilton Garden Inn...|\n",
      "| 53|Hilton Garden Inn...|\n",
      "| 54|Hilton Garden Inn...|\n",
      "| 55|Hilton Garden Inn...|\n",
      "| 56|Hilton Garden Inn...|\n",
      "| 57|Hilton Garden Inn...|\n",
      "| 58|Hilton Garden Inn...|\n",
      "| 59|Hilton Garden Inn...|\n",
      "| 60|Hilton Manhattan ...|\n",
      "| 61|Hilton New York F...|\n",
      "| 62|Hilton New York J...|\n",
      "| 63|Hilton Newark Air...|\n",
      "| 64| Hilton Times Square|\n",
      "| 65|Holiday Inn New Y...|\n",
      "| 66|Home2 Suites by H...|\n",
      "| 67|Homewood Suites b...|\n",
      "| 68|Hotel 48LEX New York|\n",
      "| 69|Howard Johnson Br...|\n",
      "| 70|Howard Johnson Fl...|\n",
      "| 71|Howard Johnson In...|\n",
      "| 72|Hudson New York C...|\n",
      "| 73|Hyatt Herald Squa...|\n",
      "| 74|Hyatt Place Flush...|\n",
      "| 75|Hyatt Place New Y...|\n",
      "| 76|Hyatt Times Squar...|\n",
      "| 77|Hyatt Union Squar...|\n",
      "| 78|Jet Luxury at the...|\n",
      "| 79|Langham Place New...|\n",
      "| 80|Le Parker Meridie...|\n",
      "| 81|Loews Regency New...|\n",
      "| 82|Magnuson Conventi...|\n",
      "| 83|Manhattan NYC-an ...|\n",
      "| 84|   Martha Washington|\n",
      "| 85|McCarren Hotel & ...|\n",
      "| 86|    Millenium Hilton|\n",
      "| 87|           NOMO SOHO|\n",
      "| 88|New York Hilton M...|\n",
      "| 89|New York Marriott...|\n",
      "| 90|New York Marriott...|\n",
      "| 91|New York Marriott...|\n",
      "| 92|Newark Liberty In...|\n",
      "| 93|Omni Berkshire Place|\n",
      "| 94| Park Hyatt New York|\n",
      "| 95|Quality Inn Conve...|\n",
      "| 96|Quality Inn Woodside|\n",
      "| 97|Radisson Martiniq...|\n",
      "| 98|Ramada Long Islan...|\n",
      "| 99|Red Carpet Inn Ne...|\n",
      "|100|Renaissance Newar...|\n",
      "|101|Residence Inn New...|\n",
      "|102|Residence Inn New...|\n",
      "|103|Residence Inn by ...|\n",
      "|104|Roxy Hotel Tribec...|\n",
      "|105|SIXTY Lower East ...|\n",
      "|106|    San Carlos Hotel|\n",
      "|107|Shelburne NYC-an ...|\n",
      "|108|Sheraton LaGuardi...|\n",
      "|109|Sheraton New York...|\n",
      "|110|Smyth A Thompson ...|\n",
      "|111|SpringHill Suites...|\n",
      "|112|Super 8 Brooklyn ...|\n",
      "|113|TRYP By Wyndham T...|\n",
      "|114|        The Benjamin|\n",
      "|115|The Carlyle A Ros...|\n",
      "|116|The Chatwal a Lux...|\n",
      "|117| The High Line Hotel|\n",
      "|118| The Kitano New York|\n",
      "|119|The Lexington New...|\n",
      "|120|        The Lombardy|\n",
      "|121|            The Mark|\n",
      "|122|The Muse Hotel a ...|\n",
      "|123|The New York EDITION|\n",
      "|124|         The Out NYC|\n",
      "|125|  The Pearl New York|\n",
      "|126|The Peninsula New...|\n",
      "|127|     The Plaza Hotel|\n",
      "|128|The Premier Hotel...|\n",
      "|129|           The Roger|\n",
      "|130|The Roosevelt Hot...|\n",
      "|131|  The Shoreham Hotel|\n",
      "|132|The St. Regis New...|\n",
      "|133|The Standard East...|\n",
      "|134|       The SunBright|\n",
      "|135|The Towers of the...|\n",
      "|136|The Westin New Yo...|\n",
      "|137|United Nations Ap...|\n",
      "|138|    Viceroy New York|\n",
      "|139|          W New York|\n",
      "|140|W New York - Down...|\n",
      "|141|W New York - Unio...|\n",
      "|142|W New York Times ...|\n",
      "|143|Waldorf Astoria N...|\n",
      "|144|Westin New York a...|\n",
      "|145|Wyndham Garden - ...|\n",
      "|146|Wyndham Garden Br...|\n",
      "|147|Wyndham Garden Ch...|\n",
      "|148|Wyndham Garden Lo...|\n",
      "|149|  Wyndham New Yorker|\n",
      "|150|ink48 hotel a Kim...|\n",
      "+---+--------------------+\n",
      "\n"
     ]
    }
   ],
   "source": [
    "w = Window().orderBy(\"hotel_name\")\n",
    "indexed_hotels_df = only_hotel_names_df.select(row_number().over(w).alias(\"ID\"), col(\"*\"))\n",
    "\n",
    "indexed_hotels_df.show(400)"
   ]
  },
  {
   "cell_type": "code",
   "execution_count": 61,
   "metadata": {},
   "outputs": [],
   "source": [
    "def initMat(x,y):\n",
    "        return -1\n",
    "finalMat = [[initMat(x,y) for x in range(161)] for y in range(150)]"
   ]
  },
  {
   "cell_type": "code",
   "execution_count": 94,
   "metadata": {},
   "outputs": [
    {
     "ename": "IndexError",
     "evalue": "list index out of range",
     "output_type": "error",
     "traceback": [
      "\u001b[1;31m---------------------------------------------------------------------------\u001b[0m",
      "\u001b[1;31mIndexError\u001b[0m                                Traceback (most recent call last)",
      "\u001b[1;32m<ipython-input-94-96f5887d6a53>\u001b[0m in \u001b[0;36m<module>\u001b[1;34m()\u001b[0m\n\u001b[0;32m      1\u001b[0m \u001b[1;32mfor\u001b[0m \u001b[0mrow\u001b[0m \u001b[1;32min\u001b[0m \u001b[0mgrouped_renamed_df\u001b[0m\u001b[1;33m.\u001b[0m\u001b[0mcollect\u001b[0m\u001b[1;33m(\u001b[0m\u001b[1;33m)\u001b[0m\u001b[1;33m:\u001b[0m\u001b[1;33m\u001b[0m\u001b[0m\n\u001b[1;32m----> 2\u001b[1;33m     \u001b[0mcolumn_to_update\u001b[0m \u001b[1;33m=\u001b[0m \u001b[0mindexed_final_columns_df\u001b[0m\u001b[1;33m.\u001b[0m\u001b[0mfilter\u001b[0m\u001b[1;33m(\u001b[0m\u001b[1;33m(\u001b[0m\u001b[0mrow\u001b[0m\u001b[1;33m.\u001b[0m\u001b[0mcheckin_date\u001b[0m \u001b[1;33m==\u001b[0m \u001b[0mindexed_final_columns_df\u001b[0m\u001b[1;33m[\u001b[0m\u001b[1;34m\"checkin_date\"\u001b[0m\u001b[1;33m]\u001b[0m\u001b[1;33m)\u001b[0m \u001b[1;33m&\u001b[0m \u001b[1;33m(\u001b[0m\u001b[0mrow\u001b[0m\u001b[1;33m.\u001b[0m\u001b[0mdiscount_code\u001b[0m \u001b[1;33m==\u001b[0m \u001b[0mindexed_final_columns_df\u001b[0m\u001b[1;33m[\u001b[0m\u001b[1;34m\"discount_code\"\u001b[0m\u001b[1;33m]\u001b[0m\u001b[1;33m)\u001b[0m\u001b[1;33m)\u001b[0m\u001b[1;33m.\u001b[0m\u001b[0mcollect\u001b[0m\u001b[1;33m(\u001b[0m\u001b[1;33m)\u001b[0m\u001b[1;33m[\u001b[0m\u001b[1;36m0\u001b[0m\u001b[1;33m]\u001b[0m\u001b[1;33m.\u001b[0m\u001b[0mID\u001b[0m\u001b[1;33m\u001b[0m\u001b[0m\n\u001b[0m\u001b[0;32m      3\u001b[0m     \u001b[0mrow_to_update\u001b[0m \u001b[1;33m=\u001b[0m \u001b[0mindexed_hotels_df\u001b[0m\u001b[1;33m.\u001b[0m\u001b[0mfilter\u001b[0m\u001b[1;33m(\u001b[0m\u001b[1;33m(\u001b[0m\u001b[0mrow\u001b[0m\u001b[1;33m.\u001b[0m\u001b[0mhotel_name\u001b[0m \u001b[1;33m==\u001b[0m \u001b[0mindexed_hotels_df\u001b[0m\u001b[1;33m[\u001b[0m\u001b[1;34m\"hotel_name\"\u001b[0m\u001b[1;33m]\u001b[0m\u001b[1;33m)\u001b[0m\u001b[1;33m)\u001b[0m\u001b[1;33m\u001b[0m\u001b[0m\n\u001b[0;32m      4\u001b[0m     \u001b[0mprint\u001b[0m\u001b[1;33m(\u001b[0m\u001b[0mcolumn_to_update\u001b[0m\u001b[1;33m)\u001b[0m\u001b[1;33m\u001b[0m\u001b[0m\n",
      "\u001b[1;31mIndexError\u001b[0m: list index out of range"
     ]
    }
   ],
   "source": [
    "for row in grouped_renamed_df.collect():\n",
    "    column_to_update = indexed_final_columns_df.filter((row.checkin_date == indexed_final_columns_df[\"checkin_date\"]) & (row.discount_code == indexed_final_columns_df[\"discount_code\"])).collect()[0].ID\n",
    "    row_to_update = indexed_hotels_df.filter((row.hotel_name == indexed_hotels_df[\"hotel_name\"])).collect()[0].ID\n",
    "    print(column_to_update)"
   ]
  },
  {
   "cell_type": "code",
   "execution_count": 63,
   "metadata": {},
   "outputs": [
    {
     "ename": "AnalysisException",
     "evalue": "\"cannot resolve '`index`' given input columns: [ID, hotel_name]; line 1 pos 3;\\n'Filter (ID#1141 = 'index)\\n+- AnalysisBarrier\\n      +- Project [ID#1141, hotel_name#673]\\n         +- Project [hotel_name#673, ID#1141, ID#1141]\\n            +- Window [row_number() windowspecdefinition(hotel_name#673 ASC NULLS FIRST, specifiedwindowframe(RowFrame, unboundedpreceding$(), currentrow$())) AS ID#1141], [hotel_name#673 ASC NULLS FIRST]\\n               +- Project [hotel_name#673]\\n                  +- Project [hotel_name#673]\\n                     +- LogicalRDD [hotel_name#673, COUNT#674L], false\\n\"",
     "output_type": "error",
     "traceback": [
      "\u001b[1;31m---------------------------------------------------------------------------\u001b[0m",
      "\u001b[1;31mPy4JJavaError\u001b[0m                             Traceback (most recent call last)",
      "\u001b[1;32m~\\Anaconda3\\lib\\site-packages\\pyspark\\sql\\utils.py\u001b[0m in \u001b[0;36mdeco\u001b[1;34m(*a, **kw)\u001b[0m\n\u001b[0;32m     62\u001b[0m         \u001b[1;32mtry\u001b[0m\u001b[1;33m:\u001b[0m\u001b[1;33m\u001b[0m\u001b[0m\n\u001b[1;32m---> 63\u001b[1;33m             \u001b[1;32mreturn\u001b[0m \u001b[0mf\u001b[0m\u001b[1;33m(\u001b[0m\u001b[1;33m*\u001b[0m\u001b[0ma\u001b[0m\u001b[1;33m,\u001b[0m \u001b[1;33m**\u001b[0m\u001b[0mkw\u001b[0m\u001b[1;33m)\u001b[0m\u001b[1;33m\u001b[0m\u001b[0m\n\u001b[0m\u001b[0;32m     64\u001b[0m         \u001b[1;32mexcept\u001b[0m \u001b[0mpy4j\u001b[0m\u001b[1;33m.\u001b[0m\u001b[0mprotocol\u001b[0m\u001b[1;33m.\u001b[0m\u001b[0mPy4JJavaError\u001b[0m \u001b[1;32mas\u001b[0m \u001b[0me\u001b[0m\u001b[1;33m:\u001b[0m\u001b[1;33m\u001b[0m\u001b[0m\n",
      "\u001b[1;32m~\\Anaconda3\\lib\\site-packages\\py4j\\protocol.py\u001b[0m in \u001b[0;36mget_return_value\u001b[1;34m(answer, gateway_client, target_id, name)\u001b[0m\n\u001b[0;32m    319\u001b[0m                     \u001b[1;34m\"An error occurred while calling {0}{1}{2}.\\n\"\u001b[0m\u001b[1;33m.\u001b[0m\u001b[1;33m\u001b[0m\u001b[0m\n\u001b[1;32m--> 320\u001b[1;33m                     format(target_id, \".\", name), value)\n\u001b[0m\u001b[0;32m    321\u001b[0m             \u001b[1;32melse\u001b[0m\u001b[1;33m:\u001b[0m\u001b[1;33m\u001b[0m\u001b[0m\n",
      "\u001b[1;31mPy4JJavaError\u001b[0m: An error occurred while calling o553.filter.\n: org.apache.spark.sql.AnalysisException: cannot resolve '`index`' given input columns: [ID, hotel_name]; line 1 pos 3;\n'Filter (ID#1141 = 'index)\n+- AnalysisBarrier\n      +- Project [ID#1141, hotel_name#673]\n         +- Project [hotel_name#673, ID#1141, ID#1141]\n            +- Window [row_number() windowspecdefinition(hotel_name#673 ASC NULLS FIRST, specifiedwindowframe(RowFrame, unboundedpreceding$(), currentrow$())) AS ID#1141], [hotel_name#673 ASC NULLS FIRST]\n               +- Project [hotel_name#673]\n                  +- Project [hotel_name#673]\n                     +- LogicalRDD [hotel_name#673, COUNT#674L], false\n\r\n\tat org.apache.spark.sql.catalyst.analysis.package$AnalysisErrorAt.failAnalysis(package.scala:42)\r\n\tat org.apache.spark.sql.catalyst.analysis.CheckAnalysis$$anonfun$checkAnalysis$1$$anonfun$apply$2.applyOrElse(CheckAnalysis.scala:88)\r\n\tat org.apache.spark.sql.catalyst.analysis.CheckAnalysis$$anonfun$checkAnalysis$1$$anonfun$apply$2.applyOrElse(CheckAnalysis.scala:85)\r\n\tat org.apache.spark.sql.catalyst.trees.TreeNode$$anonfun$transformUp$1.apply(TreeNode.scala:289)\r\n\tat org.apache.spark.sql.catalyst.trees.TreeNode$$anonfun$transformUp$1.apply(TreeNode.scala:289)\r\n\tat org.apache.spark.sql.catalyst.trees.CurrentOrigin$.withOrigin(TreeNode.scala:70)\r\n\tat org.apache.spark.sql.catalyst.trees.TreeNode.transformUp(TreeNode.scala:288)\r\n\tat org.apache.spark.sql.catalyst.trees.TreeNode$$anonfun$3.apply(TreeNode.scala:286)\r\n\tat org.apache.spark.sql.catalyst.trees.TreeNode$$anonfun$3.apply(TreeNode.scala:286)\r\n\tat org.apache.spark.sql.catalyst.trees.TreeNode$$anonfun$4.apply(TreeNode.scala:306)\r\n\tat org.apache.spark.sql.catalyst.trees.TreeNode.mapProductIterator(TreeNode.scala:187)\r\n\tat org.apache.spark.sql.catalyst.trees.TreeNode.mapChildren(TreeNode.scala:304)\r\n\tat org.apache.spark.sql.catalyst.trees.TreeNode.transformUp(TreeNode.scala:286)\r\n\tat org.apache.spark.sql.catalyst.plans.QueryPlan$$anonfun$transformExpressionsUp$1.apply(QueryPlan.scala:95)\r\n\tat org.apache.spark.sql.catalyst.plans.QueryPlan$$anonfun$transformExpressionsUp$1.apply(QueryPlan.scala:95)\r\n\tat org.apache.spark.sql.catalyst.plans.QueryPlan.transformExpression$1(QueryPlan.scala:106)\r\n\tat org.apache.spark.sql.catalyst.plans.QueryPlan.org$apache$spark$sql$catalyst$plans$QueryPlan$$recursiveTransform$1(QueryPlan.scala:116)\r\n\tat org.apache.spark.sql.catalyst.plans.QueryPlan$$anonfun$1.apply(QueryPlan.scala:125)\r\n\tat org.apache.spark.sql.catalyst.trees.TreeNode.mapProductIterator(TreeNode.scala:187)\r\n\tat org.apache.spark.sql.catalyst.plans.QueryPlan.mapExpressions(QueryPlan.scala:125)\r\n\tat org.apache.spark.sql.catalyst.plans.QueryPlan.transformExpressionsUp(QueryPlan.scala:95)\r\n\tat org.apache.spark.sql.catalyst.analysis.CheckAnalysis$$anonfun$checkAnalysis$1.apply(CheckAnalysis.scala:85)\r\n\tat org.apache.spark.sql.catalyst.analysis.CheckAnalysis$$anonfun$checkAnalysis$1.apply(CheckAnalysis.scala:80)\r\n\tat org.apache.spark.sql.catalyst.trees.TreeNode.foreachUp(TreeNode.scala:127)\r\n\tat org.apache.spark.sql.catalyst.analysis.CheckAnalysis$class.checkAnalysis(CheckAnalysis.scala:80)\r\n\tat org.apache.spark.sql.catalyst.analysis.Analyzer.checkAnalysis(Analyzer.scala:91)\r\n\tat org.apache.spark.sql.catalyst.analysis.Analyzer.executeAndCheck(Analyzer.scala:104)\r\n\tat org.apache.spark.sql.execution.QueryExecution.analyzed$lzycompute(QueryExecution.scala:57)\r\n\tat org.apache.spark.sql.execution.QueryExecution.analyzed(QueryExecution.scala:55)\r\n\tat org.apache.spark.sql.execution.QueryExecution.assertAnalyzed(QueryExecution.scala:47)\r\n\tat org.apache.spark.sql.Dataset.<init>(Dataset.scala:172)\r\n\tat org.apache.spark.sql.Dataset.<init>(Dataset.scala:178)\r\n\tat org.apache.spark.sql.Dataset$.apply(Dataset.scala:65)\r\n\tat org.apache.spark.sql.Dataset.withTypedPlan(Dataset.scala:3300)\r\n\tat org.apache.spark.sql.Dataset.filter(Dataset.scala:1458)\r\n\tat org.apache.spark.sql.Dataset.filter(Dataset.scala:1472)\r\n\tat sun.reflect.NativeMethodAccessorImpl.invoke0(Native Method)\r\n\tat sun.reflect.NativeMethodAccessorImpl.invoke(Unknown Source)\r\n\tat sun.reflect.DelegatingMethodAccessorImpl.invoke(Unknown Source)\r\n\tat java.lang.reflect.Method.invoke(Unknown Source)\r\n\tat py4j.reflection.MethodInvoker.invoke(MethodInvoker.java:244)\r\n\tat py4j.reflection.ReflectionEngine.invoke(ReflectionEngine.java:357)\r\n\tat py4j.Gateway.invoke(Gateway.java:282)\r\n\tat py4j.commands.AbstractCommand.invokeMethod(AbstractCommand.java:132)\r\n\tat py4j.commands.CallCommand.execute(CallCommand.java:79)\r\n\tat py4j.GatewayConnection.run(GatewayConnection.java:214)\r\n\tat java.lang.Thread.run(Unknown Source)\r\n",
      "\nDuring handling of the above exception, another exception occurred:\n",
      "\u001b[1;31mAnalysisException\u001b[0m                         Traceback (most recent call last)",
      "\u001b[1;32m<ipython-input-63-fe2746a783af>\u001b[0m in \u001b[0;36m<module>\u001b[1;34m()\u001b[0m\n\u001b[0;32m      1\u001b[0m \u001b[1;32mfor\u001b[0m \u001b[0mindex\u001b[0m \u001b[1;32min\u001b[0m \u001b[0mrange\u001b[0m\u001b[1;33m(\u001b[0m\u001b[1;36m1\u001b[0m\u001b[1;33m,\u001b[0m\u001b[1;36m151\u001b[0m\u001b[1;33m)\u001b[0m\u001b[1;33m:\u001b[0m\u001b[1;33m\u001b[0m\u001b[0m\n\u001b[1;32m----> 2\u001b[1;33m     \u001b[0mhotel_name\u001b[0m \u001b[1;33m=\u001b[0m \u001b[0mindexed_hotels_df\u001b[0m\u001b[1;33m.\u001b[0m\u001b[0mfilter\u001b[0m\u001b[1;33m(\u001b[0m\u001b[1;34m\"ID=index\"\u001b[0m\u001b[1;33m)\u001b[0m\u001b[1;33m[\u001b[0m\u001b[1;36m0\u001b[0m\u001b[1;33m]\u001b[0m\u001b[1;33m\u001b[0m\u001b[0m\n\u001b[0m",
      "\u001b[1;32m~\\Anaconda3\\lib\\site-packages\\pyspark\\sql\\dataframe.py\u001b[0m in \u001b[0;36mfilter\u001b[1;34m(self, condition)\u001b[0m\n\u001b[0;32m   1238\u001b[0m         \"\"\"\n\u001b[0;32m   1239\u001b[0m         \u001b[1;32mif\u001b[0m \u001b[0misinstance\u001b[0m\u001b[1;33m(\u001b[0m\u001b[0mcondition\u001b[0m\u001b[1;33m,\u001b[0m \u001b[0mbasestring\u001b[0m\u001b[1;33m)\u001b[0m\u001b[1;33m:\u001b[0m\u001b[1;33m\u001b[0m\u001b[0m\n\u001b[1;32m-> 1240\u001b[1;33m             \u001b[0mjdf\u001b[0m \u001b[1;33m=\u001b[0m \u001b[0mself\u001b[0m\u001b[1;33m.\u001b[0m\u001b[0m_jdf\u001b[0m\u001b[1;33m.\u001b[0m\u001b[0mfilter\u001b[0m\u001b[1;33m(\u001b[0m\u001b[0mcondition\u001b[0m\u001b[1;33m)\u001b[0m\u001b[1;33m\u001b[0m\u001b[0m\n\u001b[0m\u001b[0;32m   1241\u001b[0m         \u001b[1;32melif\u001b[0m \u001b[0misinstance\u001b[0m\u001b[1;33m(\u001b[0m\u001b[0mcondition\u001b[0m\u001b[1;33m,\u001b[0m \u001b[0mColumn\u001b[0m\u001b[1;33m)\u001b[0m\u001b[1;33m:\u001b[0m\u001b[1;33m\u001b[0m\u001b[0m\n\u001b[0;32m   1242\u001b[0m             \u001b[0mjdf\u001b[0m \u001b[1;33m=\u001b[0m \u001b[0mself\u001b[0m\u001b[1;33m.\u001b[0m\u001b[0m_jdf\u001b[0m\u001b[1;33m.\u001b[0m\u001b[0mfilter\u001b[0m\u001b[1;33m(\u001b[0m\u001b[0mcondition\u001b[0m\u001b[1;33m.\u001b[0m\u001b[0m_jc\u001b[0m\u001b[1;33m)\u001b[0m\u001b[1;33m\u001b[0m\u001b[0m\n",
      "\u001b[1;32m~\\Anaconda3\\lib\\site-packages\\py4j\\java_gateway.py\u001b[0m in \u001b[0;36m__call__\u001b[1;34m(self, *args)\u001b[0m\n\u001b[0;32m   1158\u001b[0m         \u001b[0manswer\u001b[0m \u001b[1;33m=\u001b[0m \u001b[0mself\u001b[0m\u001b[1;33m.\u001b[0m\u001b[0mgateway_client\u001b[0m\u001b[1;33m.\u001b[0m\u001b[0msend_command\u001b[0m\u001b[1;33m(\u001b[0m\u001b[0mcommand\u001b[0m\u001b[1;33m)\u001b[0m\u001b[1;33m\u001b[0m\u001b[0m\n\u001b[0;32m   1159\u001b[0m         return_value = get_return_value(\n\u001b[1;32m-> 1160\u001b[1;33m             answer, self.gateway_client, self.target_id, self.name)\n\u001b[0m\u001b[0;32m   1161\u001b[0m \u001b[1;33m\u001b[0m\u001b[0m\n\u001b[0;32m   1162\u001b[0m         \u001b[1;32mfor\u001b[0m \u001b[0mtemp_arg\u001b[0m \u001b[1;32min\u001b[0m \u001b[0mtemp_args\u001b[0m\u001b[1;33m:\u001b[0m\u001b[1;33m\u001b[0m\u001b[0m\n",
      "\u001b[1;32m~\\Anaconda3\\lib\\site-packages\\pyspark\\sql\\utils.py\u001b[0m in \u001b[0;36mdeco\u001b[1;34m(*a, **kw)\u001b[0m\n\u001b[0;32m     67\u001b[0m                                              e.java_exception.getStackTrace()))\n\u001b[0;32m     68\u001b[0m             \u001b[1;32mif\u001b[0m \u001b[0ms\u001b[0m\u001b[1;33m.\u001b[0m\u001b[0mstartswith\u001b[0m\u001b[1;33m(\u001b[0m\u001b[1;34m'org.apache.spark.sql.AnalysisException: '\u001b[0m\u001b[1;33m)\u001b[0m\u001b[1;33m:\u001b[0m\u001b[1;33m\u001b[0m\u001b[0m\n\u001b[1;32m---> 69\u001b[1;33m                 \u001b[1;32mraise\u001b[0m \u001b[0mAnalysisException\u001b[0m\u001b[1;33m(\u001b[0m\u001b[0ms\u001b[0m\u001b[1;33m.\u001b[0m\u001b[0msplit\u001b[0m\u001b[1;33m(\u001b[0m\u001b[1;34m': '\u001b[0m\u001b[1;33m,\u001b[0m \u001b[1;36m1\u001b[0m\u001b[1;33m)\u001b[0m\u001b[1;33m[\u001b[0m\u001b[1;36m1\u001b[0m\u001b[1;33m]\u001b[0m\u001b[1;33m,\u001b[0m \u001b[0mstackTrace\u001b[0m\u001b[1;33m)\u001b[0m\u001b[1;33m\u001b[0m\u001b[0m\n\u001b[0m\u001b[0;32m     70\u001b[0m             \u001b[1;32mif\u001b[0m \u001b[0ms\u001b[0m\u001b[1;33m.\u001b[0m\u001b[0mstartswith\u001b[0m\u001b[1;33m(\u001b[0m\u001b[1;34m'org.apache.spark.sql.catalyst.analysis'\u001b[0m\u001b[1;33m)\u001b[0m\u001b[1;33m:\u001b[0m\u001b[1;33m\u001b[0m\u001b[0m\n\u001b[0;32m     71\u001b[0m                 \u001b[1;32mraise\u001b[0m \u001b[0mAnalysisException\u001b[0m\u001b[1;33m(\u001b[0m\u001b[0ms\u001b[0m\u001b[1;33m.\u001b[0m\u001b[0msplit\u001b[0m\u001b[1;33m(\u001b[0m\u001b[1;34m': '\u001b[0m\u001b[1;33m,\u001b[0m \u001b[1;36m1\u001b[0m\u001b[1;33m)\u001b[0m\u001b[1;33m[\u001b[0m\u001b[1;36m1\u001b[0m\u001b[1;33m]\u001b[0m\u001b[1;33m,\u001b[0m \u001b[0mstackTrace\u001b[0m\u001b[1;33m)\u001b[0m\u001b[1;33m\u001b[0m\u001b[0m\n",
      "\u001b[1;31mAnalysisException\u001b[0m: \"cannot resolve '`index`' given input columns: [ID, hotel_name]; line 1 pos 3;\\n'Filter (ID#1141 = 'index)\\n+- AnalysisBarrier\\n      +- Project [ID#1141, hotel_name#673]\\n         +- Project [hotel_name#673, ID#1141, ID#1141]\\n            +- Window [row_number() windowspecdefinition(hotel_name#673 ASC NULLS FIRST, specifiedwindowframe(RowFrame, unboundedpreceding$(), currentrow$())) AS ID#1141], [hotel_name#673 ASC NULLS FIRST]\\n               +- Project [hotel_name#673]\\n                  +- Project [hotel_name#673]\\n                     +- LogicalRDD [hotel_name#673, COUNT#674L], false\\n\""
     ]
    }
   ],
   "source": [
    "for index in range(1,151):\n",
    "    hotel_name = indexed_hotels_df.filter(\"ID=index\")[0]"
   ]
  },
  {
   "cell_type": "code",
   "execution_count": 55,
   "metadata": {},
   "outputs": [],
   "source": [
    "mat_df = spark.createDataFrame(finalMat)"
   ]
  }
 ],
 "metadata": {
  "kernelspec": {
   "display_name": "Python 3",
   "language": "python",
   "name": "python3"
  },
  "language_info": {
   "codemirror_mode": {
    "name": "ipython",
    "version": 3
   },
   "file_extension": ".py",
   "mimetype": "text/x-python",
   "name": "python",
   "nbconvert_exporter": "python",
   "pygments_lexer": "ipython3",
   "version": "3.6.4"
  }
 },
 "nbformat": 4,
 "nbformat_minor": 2
}
